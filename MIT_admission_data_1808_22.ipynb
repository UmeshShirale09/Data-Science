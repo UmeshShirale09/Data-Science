{
  "cells": [
    {
      "cell_type": "markdown",
      "metadata": {
        "id": "view-in-github",
        "colab_type": "text"
      },
      "source": [
        "<a href=\"https://colab.research.google.com/github/UmeshShirale09/Data-Science/blob/main/MIT_admission_data_1808_22.ipynb\" target=\"_parent\"><img src=\"https://colab.research.google.com/assets/colab-badge.svg\" alt=\"Open In Colab\"/></a>"
      ]
    },
    {
      "cell_type": "code",
      "execution_count": 1,
      "metadata": {
        "colab": {
          "base_uri": "https://localhost:8080/",
          "height": 73
        },
        "id": "uqLrCVTRwVJB",
        "outputId": "23a74c03-bb29-4cb2-814a-6d486559f761"
      },
      "outputs": [
        {
          "output_type": "display_data",
          "data": {
            "text/plain": [
              "<IPython.core.display.HTML object>"
            ],
            "text/html": [
              "\n",
              "     <input type=\"file\" id=\"files-6cfae02b-dce7-4fc5-b112-1e0243486ad2\" name=\"files[]\" multiple disabled\n",
              "        style=\"border:none\" />\n",
              "     <output id=\"result-6cfae02b-dce7-4fc5-b112-1e0243486ad2\">\n",
              "      Upload widget is only available when the cell has been executed in the\n",
              "      current browser session. Please rerun this cell to enable.\n",
              "      </output>\n",
              "      <script>// Copyright 2017 Google LLC\n",
              "//\n",
              "// Licensed under the Apache License, Version 2.0 (the \"License\");\n",
              "// you may not use this file except in compliance with the License.\n",
              "// You may obtain a copy of the License at\n",
              "//\n",
              "//      http://www.apache.org/licenses/LICENSE-2.0\n",
              "//\n",
              "// Unless required by applicable law or agreed to in writing, software\n",
              "// distributed under the License is distributed on an \"AS IS\" BASIS,\n",
              "// WITHOUT WARRANTIES OR CONDITIONS OF ANY KIND, either express or implied.\n",
              "// See the License for the specific language governing permissions and\n",
              "// limitations under the License.\n",
              "\n",
              "/**\n",
              " * @fileoverview Helpers for google.colab Python module.\n",
              " */\n",
              "(function(scope) {\n",
              "function span(text, styleAttributes = {}) {\n",
              "  const element = document.createElement('span');\n",
              "  element.textContent = text;\n",
              "  for (const key of Object.keys(styleAttributes)) {\n",
              "    element.style[key] = styleAttributes[key];\n",
              "  }\n",
              "  return element;\n",
              "}\n",
              "\n",
              "// Max number of bytes which will be uploaded at a time.\n",
              "const MAX_PAYLOAD_SIZE = 100 * 1024;\n",
              "\n",
              "function _uploadFiles(inputId, outputId) {\n",
              "  const steps = uploadFilesStep(inputId, outputId);\n",
              "  const outputElement = document.getElementById(outputId);\n",
              "  // Cache steps on the outputElement to make it available for the next call\n",
              "  // to uploadFilesContinue from Python.\n",
              "  outputElement.steps = steps;\n",
              "\n",
              "  return _uploadFilesContinue(outputId);\n",
              "}\n",
              "\n",
              "// This is roughly an async generator (not supported in the browser yet),\n",
              "// where there are multiple asynchronous steps and the Python side is going\n",
              "// to poll for completion of each step.\n",
              "// This uses a Promise to block the python side on completion of each step,\n",
              "// then passes the result of the previous step as the input to the next step.\n",
              "function _uploadFilesContinue(outputId) {\n",
              "  const outputElement = document.getElementById(outputId);\n",
              "  const steps = outputElement.steps;\n",
              "\n",
              "  const next = steps.next(outputElement.lastPromiseValue);\n",
              "  return Promise.resolve(next.value.promise).then((value) => {\n",
              "    // Cache the last promise value to make it available to the next\n",
              "    // step of the generator.\n",
              "    outputElement.lastPromiseValue = value;\n",
              "    return next.value.response;\n",
              "  });\n",
              "}\n",
              "\n",
              "/**\n",
              " * Generator function which is called between each async step of the upload\n",
              " * process.\n",
              " * @param {string} inputId Element ID of the input file picker element.\n",
              " * @param {string} outputId Element ID of the output display.\n",
              " * @return {!Iterable<!Object>} Iterable of next steps.\n",
              " */\n",
              "function* uploadFilesStep(inputId, outputId) {\n",
              "  const inputElement = document.getElementById(inputId);\n",
              "  inputElement.disabled = false;\n",
              "\n",
              "  const outputElement = document.getElementById(outputId);\n",
              "  outputElement.innerHTML = '';\n",
              "\n",
              "  const pickedPromise = new Promise((resolve) => {\n",
              "    inputElement.addEventListener('change', (e) => {\n",
              "      resolve(e.target.files);\n",
              "    });\n",
              "  });\n",
              "\n",
              "  const cancel = document.createElement('button');\n",
              "  inputElement.parentElement.appendChild(cancel);\n",
              "  cancel.textContent = 'Cancel upload';\n",
              "  const cancelPromise = new Promise((resolve) => {\n",
              "    cancel.onclick = () => {\n",
              "      resolve(null);\n",
              "    };\n",
              "  });\n",
              "\n",
              "  // Wait for the user to pick the files.\n",
              "  const files = yield {\n",
              "    promise: Promise.race([pickedPromise, cancelPromise]),\n",
              "    response: {\n",
              "      action: 'starting',\n",
              "    }\n",
              "  };\n",
              "\n",
              "  cancel.remove();\n",
              "\n",
              "  // Disable the input element since further picks are not allowed.\n",
              "  inputElement.disabled = true;\n",
              "\n",
              "  if (!files) {\n",
              "    return {\n",
              "      response: {\n",
              "        action: 'complete',\n",
              "      }\n",
              "    };\n",
              "  }\n",
              "\n",
              "  for (const file of files) {\n",
              "    const li = document.createElement('li');\n",
              "    li.append(span(file.name, {fontWeight: 'bold'}));\n",
              "    li.append(span(\n",
              "        `(${file.type || 'n/a'}) - ${file.size} bytes, ` +\n",
              "        `last modified: ${\n",
              "            file.lastModifiedDate ? file.lastModifiedDate.toLocaleDateString() :\n",
              "                                    'n/a'} - `));\n",
              "    const percent = span('0% done');\n",
              "    li.appendChild(percent);\n",
              "\n",
              "    outputElement.appendChild(li);\n",
              "\n",
              "    const fileDataPromise = new Promise((resolve) => {\n",
              "      const reader = new FileReader();\n",
              "      reader.onload = (e) => {\n",
              "        resolve(e.target.result);\n",
              "      };\n",
              "      reader.readAsArrayBuffer(file);\n",
              "    });\n",
              "    // Wait for the data to be ready.\n",
              "    let fileData = yield {\n",
              "      promise: fileDataPromise,\n",
              "      response: {\n",
              "        action: 'continue',\n",
              "      }\n",
              "    };\n",
              "\n",
              "    // Use a chunked sending to avoid message size limits. See b/62115660.\n",
              "    let position = 0;\n",
              "    do {\n",
              "      const length = Math.min(fileData.byteLength - position, MAX_PAYLOAD_SIZE);\n",
              "      const chunk = new Uint8Array(fileData, position, length);\n",
              "      position += length;\n",
              "\n",
              "      const base64 = btoa(String.fromCharCode.apply(null, chunk));\n",
              "      yield {\n",
              "        response: {\n",
              "          action: 'append',\n",
              "          file: file.name,\n",
              "          data: base64,\n",
              "        },\n",
              "      };\n",
              "\n",
              "      let percentDone = fileData.byteLength === 0 ?\n",
              "          100 :\n",
              "          Math.round((position / fileData.byteLength) * 100);\n",
              "      percent.textContent = `${percentDone}% done`;\n",
              "\n",
              "    } while (position < fileData.byteLength);\n",
              "  }\n",
              "\n",
              "  // All done.\n",
              "  yield {\n",
              "    response: {\n",
              "      action: 'complete',\n",
              "    }\n",
              "  };\n",
              "}\n",
              "\n",
              "scope.google = scope.google || {};\n",
              "scope.google.colab = scope.google.colab || {};\n",
              "scope.google.colab._files = {\n",
              "  _uploadFiles,\n",
              "  _uploadFilesContinue,\n",
              "};\n",
              "})(self);\n",
              "</script> "
            ]
          },
          "metadata": {}
        },
        {
          "output_type": "stream",
          "name": "stdout",
          "text": [
            "Saving mit-asia-enquiries.xlsx to mit-asia-enquiries.xlsx\n"
          ]
        }
      ],
      "source": [
        "from google.colab import files\n",
        "uploaded = files.upload()"
      ]
    },
    {
      "cell_type": "code",
      "execution_count": 2,
      "metadata": {
        "id": "inRMHi8gxbZC"
      },
      "outputs": [],
      "source": [
        "import pandas as pd\n",
        "adm18 = pd.read_excel('mit-asia-enquiries.xlsx')"
      ]
    },
    {
      "cell_type": "code",
      "execution_count": null,
      "metadata": {
        "id": "UQ1bYUzKD_3i"
      },
      "outputs": [],
      "source": [
        "# adm18 = adm18[0:31]\n",
        "# print(adm18)\n"
      ]
    },
    {
      "cell_type": "code",
      "execution_count": 3,
      "metadata": {
        "id": "npuLTmlsaWop"
      },
      "outputs": [],
      "source": [
        "import numpy as np "
      ]
    },
    {
      "cell_type": "code",
      "execution_count": 4,
      "metadata": {
        "colab": {
          "base_uri": "https://localhost:8080/"
        },
        "id": "gcZNvRcqxwcY",
        "outputId": "08c9b6f3-eb87-421e-b07c-2b44596be317"
      },
      "outputs": [
        {
          "output_type": "execute_result",
          "data": {
            "text/plain": [
              "(4559, 79)"
            ]
          },
          "metadata": {},
          "execution_count": 4
        }
      ],
      "source": [
        "adm18.shape"
      ]
    },
    {
      "cell_type": "code",
      "execution_count": 5,
      "metadata": {
        "colab": {
          "base_uri": "https://localhost:8080/"
        },
        "id": "clPeWEXuxyo8",
        "outputId": "16ca8d2e-48c8-4312-934b-4666731e531a"
      },
      "outputs": [
        {
          "output_type": "execute_result",
          "data": {
            "text/plain": [
              "Submitted                             object\n",
              "FormName                              object\n",
              "your-name                             object\n",
              "fullname                              object\n",
              "full-name                             object\n",
              "                                       ...  \n",
              "plugin1-bvoc-Marathwada-CIDCO         object\n",
              "plugin-list-Bulandshahr               object\n",
              "plugin1-Under-Graduate-Bulandshahr    object\n",
              "plugin1-Post-Graduate-Bulandshahr     object\n",
              "Submitted From                        object\n",
              "Length: 79, dtype: object"
            ]
          },
          "metadata": {},
          "execution_count": 5
        }
      ],
      "source": [
        "adm18.dtypes"
      ]
    },
    {
      "cell_type": "code",
      "execution_count": 6,
      "metadata": {
        "colab": {
          "base_uri": "https://localhost:8080/"
        },
        "id": "K6Bi_Y0dx6f9",
        "outputId": "a60da8ab-e897-4525-aa4c-dd4d33ee9cc8"
      },
      "outputs": [
        {
          "output_type": "execute_result",
          "data": {
            "text/plain": [
              "<bound method DataFrame.info of                 Submitted                        FormName your-name fullname  \\\n",
              "0     2022-07-30 12:02:21  Enquiry Indian Students Latest       NaN      NaN   \n",
              "1     2022-07-30 10:47:01           Programs Landing Page       NaN      NaN   \n",
              "2     2022-07-30 10:35:40  Enquiry Indian Students Latest       NaN      NaN   \n",
              "3     2022-07-30 10:31:40  Enquiry Indian Students Latest       NaN      NaN   \n",
              "4     2022-07-30 10:05:09  Enquiry Indian Students Latest       NaN      NaN   \n",
              "...                   ...                             ...       ...      ...   \n",
              "4554  2020-09-16 05:13:02                  Contact form 1       NaN      NaN   \n",
              "4555  2020-09-16 05:12:57                  Contact form 1       NaN      NaN   \n",
              "4556  2020-09-16 05:12:49                         enquiry      test      NaN   \n",
              "4557  2020-09-16 05:12:21                  Contact form 1       NaN      NaN   \n",
              "4558  2020-09-16 05:11:51                  Contact form 1       NaN      NaN   \n",
              "\n",
              "              full-name           your-email FromDate birth-date company  \\\n",
              "0          Pawan Telure                  NaN      NaN        NaN     NaN   \n",
              "1     Stephania Pethard                  NaN      NaN        NaN     NaN   \n",
              "2                  test                  NaN      NaN        NaN     NaN   \n",
              "3                  test                  NaN      NaN        NaN     NaN   \n",
              "4                  test                  NaN      NaN        NaN     NaN   \n",
              "...                 ...                  ...      ...        ...     ...   \n",
              "4554               test  test@iverbinden.com      NaN        NaN     NaN   \n",
              "4555               test  test@iverbinden.com      NaN        NaN     NaN   \n",
              "4556                NaN       test@gmail.com      NaN        NaN     NaN   \n",
              "4557               test       test@gmail.com      NaN        NaN     NaN   \n",
              "4558               test  test@iverbinden.com      NaN        NaN     NaN   \n",
              "\n",
              "                    email-id  ... plugin-Nursing-Under-Graduate  \\\n",
              "0     pavantelure0@gmail.com  ...                           NaN   \n",
              "1       ga89uo828@outlook.sa  ...                           NaN   \n",
              "2                 mit@asia.n  ...                           NaN   \n",
              "3                 mit@asia.n  ...                           NaN   \n",
              "4                 mit@asia.v  ...                           NaN   \n",
              "...                      ...  ...                           ...   \n",
              "4554                     NaN  ...                           NaN   \n",
              "4555                     NaN  ...                           NaN   \n",
              "4556                     NaN  ...                           NaN   \n",
              "4557                     NaN  ...                           NaN   \n",
              "4558                     NaN  ...                           NaN   \n",
              "\n",
              "     plugin-list-Marathwada-CIDCO  msg  \\\n",
              "0                             NaN  NaN   \n",
              "1                             NaN  NaN   \n",
              "2                             NaN  NaN   \n",
              "3                             NaN  NaN   \n",
              "4                             NaN  NaN   \n",
              "...                           ...  ...   \n",
              "4554                          NaN  NaN   \n",
              "4555                          NaN  NaN   \n",
              "4556                          NaN  NaN   \n",
              "4557                          NaN  NaN   \n",
              "4558                          NaN  NaN   \n",
              "\n",
              "     plugin1-Under-Graduate-Marathwada-CIDCO  \\\n",
              "0                                        NaN   \n",
              "1                                        NaN   \n",
              "2                                        NaN   \n",
              "3                                        NaN   \n",
              "4                                        NaN   \n",
              "...                                      ...   \n",
              "4554                                     NaN   \n",
              "4555                                     NaN   \n",
              "4556                                     NaN   \n",
              "4557                                     NaN   \n",
              "4558                                     NaN   \n",
              "\n",
              "     plugin1-Post-Graduate-Marathwada-CIDCO plugin1-bvoc-Marathwada-CIDCO  \\\n",
              "0                                       NaN                           NaN   \n",
              "1                                       NaN                           NaN   \n",
              "2                                       NaN                           NaN   \n",
              "3                                       NaN                           NaN   \n",
              "4                                       NaN                           NaN   \n",
              "...                                     ...                           ...   \n",
              "4554                                    NaN                           NaN   \n",
              "4555                                    NaN                           NaN   \n",
              "4556                                    NaN                           NaN   \n",
              "4557                                    NaN                           NaN   \n",
              "4558                                    NaN                           NaN   \n",
              "\n",
              "     plugin-list-Bulandshahr plugin1-Under-Graduate-Bulandshahr  \\\n",
              "0                        NaN                                NaN   \n",
              "1                        NaN                                NaN   \n",
              "2                        NaN                                NaN   \n",
              "3                        NaN                                NaN   \n",
              "4                        NaN                                NaN   \n",
              "...                      ...                                ...   \n",
              "4554                     NaN                                NaN   \n",
              "4555                     NaN                                NaN   \n",
              "4556                     NaN                                NaN   \n",
              "4557                     NaN                                NaN   \n",
              "4558                     NaN                                NaN   \n",
              "\n",
              "     plugin1-Post-Graduate-Bulandshahr   Submitted From  \n",
              "0                                  NaN    157.33.54.205  \n",
              "1                                  NaN  116.103.146.224  \n",
              "2                                  NaN   210.212.170.94  \n",
              "3                                  NaN   210.212.170.94  \n",
              "4                                  NaN   210.212.170.94  \n",
              "...                                ...              ...  \n",
              "4554                               NaN   106.198.41.252  \n",
              "4555                               NaN   106.198.41.252  \n",
              "4556                               NaN   157.46.119.108  \n",
              "4557                               NaN   157.46.119.108  \n",
              "4558                               NaN   106.198.41.252  \n",
              "\n",
              "[4559 rows x 79 columns]>"
            ]
          },
          "metadata": {},
          "execution_count": 6
        }
      ],
      "source": [
        "adm18.info"
      ]
    },
    {
      "cell_type": "code",
      "execution_count": 7,
      "metadata": {
        "colab": {
          "base_uri": "https://localhost:8080/"
        },
        "id": "x1pGFukex_xL",
        "outputId": "b6ac6e0c-c39e-4eea-bf84-77f9ae4f6fa7"
      },
      "outputs": [
        {
          "output_type": "execute_result",
          "data": {
            "text/plain": [
              "Index(['Submitted', 'FormName', 'your-name', 'fullname', 'full-name',\n",
              "       'your-email', 'FromDate', 'birth-date', 'company', 'email-id', 'mobile',\n",
              "       'designation', 'email-509', 'phone-no', 'your-phone', 'radio-953',\n",
              "       'program', 'Room', 'tel-243', 'your-message', 'email', 'Meal', 'state',\n",
              "       'phone', 'plugin-list', 'plugin-list-D-Voc', 'submit', 'alt', 'city',\n",
              "       'plugin-list-M-Arch', 'mc4wp_checkbox', 'institute', 'plugin-list-MCA',\n",
              "       '_ctc_referer', 'menu-538', 'country-residence', 'plugin-list-B_Voc',\n",
              "       'country-citizenship', '_ctc_usefulness', 'plugin-list-MBA',\n",
              "       'plugin-Under-Graduate', 'plugin-list-M-Sc', '_ctc_status',\n",
              "       '_ctc_last_page_title', 'plugin-list-B-Arch', 'plugin-Post-Graduate',\n",
              "       'plugin-list-BCA', 'plugin-PhD', 'plugin-bvoc', '_ctc_last_page_uri',\n",
              "       'plugin-list-B-Voc', 'plugin-list-Maharashtra', 'plugin-list-Diploma',\n",
              "       'plugin1-Under-Graduate', 'plugin-list-M-Tech', 'plugin1-Post-Graduate',\n",
              "       'plugin1-bvoc', 'plugin-list-Ph-D', 'plugin1-PhD', 'plugin-list-B-Tech',\n",
              "       'plugin-list-Aurangabad', 'plugin1-Diploma', 'plugin-list-B-Sc',\n",
              "       'plugin-list-Rotegaon', 'plugin-Rotegaon-Diploma', 'plugin-list-B.Voc',\n",
              "       'plugin-list-Food', 'plugin-Food-Under-Graduate', 'plugin-list-Nursing',\n",
              "       'plugin-Nursing-Under-Graduate', 'plugin-list-Marathwada-CIDCO', 'msg',\n",
              "       'plugin1-Under-Graduate-Marathwada-CIDCO',\n",
              "       'plugin1-Post-Graduate-Marathwada-CIDCO',\n",
              "       'plugin1-bvoc-Marathwada-CIDCO', 'plugin-list-Bulandshahr',\n",
              "       'plugin1-Under-Graduate-Bulandshahr',\n",
              "       'plugin1-Post-Graduate-Bulandshahr', 'Submitted From'],\n",
              "      dtype='object')"
            ]
          },
          "metadata": {},
          "execution_count": 7
        }
      ],
      "source": [
        "adm18.columns"
      ]
    },
    {
      "cell_type": "code",
      "execution_count": 8,
      "metadata": {
        "id": "mYlS09rPg_Z9"
      },
      "outputs": [],
      "source": [
        "adm18 = adm18.rename(columns = {\"plugin-list-B-Tech\":\"Branch\"})"
      ]
    },
    {
      "cell_type": "code",
      "execution_count": 9,
      "metadata": {
        "colab": {
          "base_uri": "https://localhost:8080/",
          "height": 362
        },
        "id": "GU2DL7VvyGxr",
        "outputId": "df330048-9ee1-4a78-ecb9-c05e689d8dd7"
      },
      "outputs": [
        {
          "output_type": "execute_result",
          "data": {
            "text/plain": [
              "             Submitted                        FormName your-name fullname  \\\n",
              "0  2022-07-30 12:02:21  Enquiry Indian Students Latest       NaN      NaN   \n",
              "1  2022-07-30 10:47:01           Programs Landing Page       NaN      NaN   \n",
              "\n",
              "           full-name your-email FromDate birth-date company  \\\n",
              "0       Pawan Telure        NaN      NaN        NaN     NaN   \n",
              "1  Stephania Pethard        NaN      NaN        NaN     NaN   \n",
              "\n",
              "                 email-id  ... plugin-Nursing-Under-Graduate  \\\n",
              "0  pavantelure0@gmail.com  ...                           NaN   \n",
              "1    ga89uo828@outlook.sa  ...                           NaN   \n",
              "\n",
              "  plugin-list-Marathwada-CIDCO  msg plugin1-Under-Graduate-Marathwada-CIDCO  \\\n",
              "0                          NaN  NaN                                     NaN   \n",
              "1                          NaN  NaN                                     NaN   \n",
              "\n",
              "  plugin1-Post-Graduate-Marathwada-CIDCO plugin1-bvoc-Marathwada-CIDCO  \\\n",
              "0                                    NaN                           NaN   \n",
              "1                                    NaN                           NaN   \n",
              "\n",
              "  plugin-list-Bulandshahr plugin1-Under-Graduate-Bulandshahr  \\\n",
              "0                     NaN                                NaN   \n",
              "1                     NaN                                NaN   \n",
              "\n",
              "  plugin1-Post-Graduate-Bulandshahr   Submitted From  \n",
              "0                               NaN    157.33.54.205  \n",
              "1                               NaN  116.103.146.224  \n",
              "\n",
              "[2 rows x 79 columns]"
            ],
            "text/html": [
              "\n",
              "  <div id=\"df-6f28677f-5fa9-464f-a757-648863318f9f\">\n",
              "    <div class=\"colab-df-container\">\n",
              "      <div>\n",
              "<style scoped>\n",
              "    .dataframe tbody tr th:only-of-type {\n",
              "        vertical-align: middle;\n",
              "    }\n",
              "\n",
              "    .dataframe tbody tr th {\n",
              "        vertical-align: top;\n",
              "    }\n",
              "\n",
              "    .dataframe thead th {\n",
              "        text-align: right;\n",
              "    }\n",
              "</style>\n",
              "<table border=\"1\" class=\"dataframe\">\n",
              "  <thead>\n",
              "    <tr style=\"text-align: right;\">\n",
              "      <th></th>\n",
              "      <th>Submitted</th>\n",
              "      <th>FormName</th>\n",
              "      <th>your-name</th>\n",
              "      <th>fullname</th>\n",
              "      <th>full-name</th>\n",
              "      <th>your-email</th>\n",
              "      <th>FromDate</th>\n",
              "      <th>birth-date</th>\n",
              "      <th>company</th>\n",
              "      <th>email-id</th>\n",
              "      <th>...</th>\n",
              "      <th>plugin-Nursing-Under-Graduate</th>\n",
              "      <th>plugin-list-Marathwada-CIDCO</th>\n",
              "      <th>msg</th>\n",
              "      <th>plugin1-Under-Graduate-Marathwada-CIDCO</th>\n",
              "      <th>plugin1-Post-Graduate-Marathwada-CIDCO</th>\n",
              "      <th>plugin1-bvoc-Marathwada-CIDCO</th>\n",
              "      <th>plugin-list-Bulandshahr</th>\n",
              "      <th>plugin1-Under-Graduate-Bulandshahr</th>\n",
              "      <th>plugin1-Post-Graduate-Bulandshahr</th>\n",
              "      <th>Submitted From</th>\n",
              "    </tr>\n",
              "  </thead>\n",
              "  <tbody>\n",
              "    <tr>\n",
              "      <th>0</th>\n",
              "      <td>2022-07-30 12:02:21</td>\n",
              "      <td>Enquiry Indian Students Latest</td>\n",
              "      <td>NaN</td>\n",
              "      <td>NaN</td>\n",
              "      <td>Pawan Telure</td>\n",
              "      <td>NaN</td>\n",
              "      <td>NaN</td>\n",
              "      <td>NaN</td>\n",
              "      <td>NaN</td>\n",
              "      <td>pavantelure0@gmail.com</td>\n",
              "      <td>...</td>\n",
              "      <td>NaN</td>\n",
              "      <td>NaN</td>\n",
              "      <td>NaN</td>\n",
              "      <td>NaN</td>\n",
              "      <td>NaN</td>\n",
              "      <td>NaN</td>\n",
              "      <td>NaN</td>\n",
              "      <td>NaN</td>\n",
              "      <td>NaN</td>\n",
              "      <td>157.33.54.205</td>\n",
              "    </tr>\n",
              "    <tr>\n",
              "      <th>1</th>\n",
              "      <td>2022-07-30 10:47:01</td>\n",
              "      <td>Programs Landing Page</td>\n",
              "      <td>NaN</td>\n",
              "      <td>NaN</td>\n",
              "      <td>Stephania Pethard</td>\n",
              "      <td>NaN</td>\n",
              "      <td>NaN</td>\n",
              "      <td>NaN</td>\n",
              "      <td>NaN</td>\n",
              "      <td>ga89uo828@outlook.sa</td>\n",
              "      <td>...</td>\n",
              "      <td>NaN</td>\n",
              "      <td>NaN</td>\n",
              "      <td>NaN</td>\n",
              "      <td>NaN</td>\n",
              "      <td>NaN</td>\n",
              "      <td>NaN</td>\n",
              "      <td>NaN</td>\n",
              "      <td>NaN</td>\n",
              "      <td>NaN</td>\n",
              "      <td>116.103.146.224</td>\n",
              "    </tr>\n",
              "  </tbody>\n",
              "</table>\n",
              "<p>2 rows × 79 columns</p>\n",
              "</div>\n",
              "      <button class=\"colab-df-convert\" onclick=\"convertToInteractive('df-6f28677f-5fa9-464f-a757-648863318f9f')\"\n",
              "              title=\"Convert this dataframe to an interactive table.\"\n",
              "              style=\"display:none;\">\n",
              "        \n",
              "  <svg xmlns=\"http://www.w3.org/2000/svg\" height=\"24px\"viewBox=\"0 0 24 24\"\n",
              "       width=\"24px\">\n",
              "    <path d=\"M0 0h24v24H0V0z\" fill=\"none\"/>\n",
              "    <path d=\"M18.56 5.44l.94 2.06.94-2.06 2.06-.94-2.06-.94-.94-2.06-.94 2.06-2.06.94zm-11 1L8.5 8.5l.94-2.06 2.06-.94-2.06-.94L8.5 2.5l-.94 2.06-2.06.94zm10 10l.94 2.06.94-2.06 2.06-.94-2.06-.94-.94-2.06-.94 2.06-2.06.94z\"/><path d=\"M17.41 7.96l-1.37-1.37c-.4-.4-.92-.59-1.43-.59-.52 0-1.04.2-1.43.59L10.3 9.45l-7.72 7.72c-.78.78-.78 2.05 0 2.83L4 21.41c.39.39.9.59 1.41.59.51 0 1.02-.2 1.41-.59l7.78-7.78 2.81-2.81c.8-.78.8-2.07 0-2.86zM5.41 20L4 18.59l7.72-7.72 1.47 1.35L5.41 20z\"/>\n",
              "  </svg>\n",
              "      </button>\n",
              "      \n",
              "  <style>\n",
              "    .colab-df-container {\n",
              "      display:flex;\n",
              "      flex-wrap:wrap;\n",
              "      gap: 12px;\n",
              "    }\n",
              "\n",
              "    .colab-df-convert {\n",
              "      background-color: #E8F0FE;\n",
              "      border: none;\n",
              "      border-radius: 50%;\n",
              "      cursor: pointer;\n",
              "      display: none;\n",
              "      fill: #1967D2;\n",
              "      height: 32px;\n",
              "      padding: 0 0 0 0;\n",
              "      width: 32px;\n",
              "    }\n",
              "\n",
              "    .colab-df-convert:hover {\n",
              "      background-color: #E2EBFA;\n",
              "      box-shadow: 0px 1px 2px rgba(60, 64, 67, 0.3), 0px 1px 3px 1px rgba(60, 64, 67, 0.15);\n",
              "      fill: #174EA6;\n",
              "    }\n",
              "\n",
              "    [theme=dark] .colab-df-convert {\n",
              "      background-color: #3B4455;\n",
              "      fill: #D2E3FC;\n",
              "    }\n",
              "\n",
              "    [theme=dark] .colab-df-convert:hover {\n",
              "      background-color: #434B5C;\n",
              "      box-shadow: 0px 1px 3px 1px rgba(0, 0, 0, 0.15);\n",
              "      filter: drop-shadow(0px 1px 2px rgba(0, 0, 0, 0.3));\n",
              "      fill: #FFFFFF;\n",
              "    }\n",
              "  </style>\n",
              "\n",
              "      <script>\n",
              "        const buttonEl =\n",
              "          document.querySelector('#df-6f28677f-5fa9-464f-a757-648863318f9f button.colab-df-convert');\n",
              "        buttonEl.style.display =\n",
              "          google.colab.kernel.accessAllowed ? 'block' : 'none';\n",
              "\n",
              "        async function convertToInteractive(key) {\n",
              "          const element = document.querySelector('#df-6f28677f-5fa9-464f-a757-648863318f9f');\n",
              "          const dataTable =\n",
              "            await google.colab.kernel.invokeFunction('convertToInteractive',\n",
              "                                                     [key], {});\n",
              "          if (!dataTable) return;\n",
              "\n",
              "          const docLinkHtml = 'Like what you see? Visit the ' +\n",
              "            '<a target=\"_blank\" href=https://colab.research.google.com/notebooks/data_table.ipynb>data table notebook</a>'\n",
              "            + ' to learn more about interactive tables.';\n",
              "          element.innerHTML = '';\n",
              "          dataTable['output_type'] = 'display_data';\n",
              "          await google.colab.output.renderOutput(dataTable, element);\n",
              "          const docLink = document.createElement('div');\n",
              "          docLink.innerHTML = docLinkHtml;\n",
              "          element.appendChild(docLink);\n",
              "        }\n",
              "      </script>\n",
              "    </div>\n",
              "  </div>\n",
              "  "
            ]
          },
          "metadata": {},
          "execution_count": 9
        }
      ],
      "source": [
        "adm18.head(2)"
      ]
    },
    {
      "cell_type": "code",
      "execution_count": 10,
      "metadata": {
        "id": "-7y0B0jqbVbo"
      },
      "outputs": [],
      "source": [
        "# dropping ALL duplicate values\n",
        "adm18.drop_duplicates(subset=\"phone-no\",\n",
        "                     keep='first', inplace=True)"
      ]
    },
    {
      "cell_type": "code",
      "execution_count": 11,
      "metadata": {
        "colab": {
          "base_uri": "https://localhost:8080/"
        },
        "id": "bmOSmBC1W19h",
        "outputId": "3b3ef4a7-f4f2-425e-dfcf-92a1e7966ad6"
      },
      "outputs": [
        {
          "output_type": "execute_result",
          "data": {
            "text/plain": [
              "B.Tech           767\n",
              "Diploma          312\n",
              "M.Tech            88\n",
              "B.Sc              59\n",
              "B.Arch            57\n",
              "MBA               53\n",
              "BCA               48\n",
              "B.Sc. Nursing     47\n",
              "MCA               41\n",
              "M.Sc              22\n",
              "B.Voc             13\n",
              "Ph.D              11\n",
              "M.Arch            10\n",
              "Name: program, dtype: int64"
            ]
          },
          "metadata": {},
          "execution_count": 11
        }
      ],
      "source": [
        "adm18.program.value_counts()"
      ]
    },
    {
      "cell_type": "code",
      "execution_count": 12,
      "metadata": {
        "colab": {
          "base_uri": "https://localhost:8080/",
          "height": 279
        },
        "id": "A9VdYXR0XMKx",
        "outputId": "c4c64e78-ef23-47bf-e61b-7426b3c7f3dd"
      },
      "outputs": [
        {
          "output_type": "display_data",
          "data": {
            "text/plain": [
              "<Figure size 432x288 with 1 Axes>"
            ],
            "image/png": "[encoded data removed]"
          },
          "metadata": {
            "needs_background": "light"
          }
        }
      ],
      "source": [
        "import seaborn as sns\n",
        "import matplotlib.pyplot as plt\n",
        "\n",
        "# count plot on single categorical variable\n",
        "sns.countplot(y ='program', data = adm18)\n",
        " \n",
        "# Show the plot\n",
        "plt.show()"
      ]
    },
    {
      "cell_type": "code",
      "execution_count": 13,
      "metadata": {
        "colab": {
          "base_uri": "https://localhost:8080/",
          "height": 206
        },
        "id": "lMwu_2O6yNW6",
        "outputId": "3db70a8e-89df-4e5c-f3b5-a95816602309"
      },
      "outputs": [
        {
          "output_type": "execute_result",
          "data": {
            "text/plain": [
              "                 full-name your-email\n",
              "0             Pawan Telure        NaN\n",
              "1        Stephania Pethard        NaN\n",
              "2                     test        NaN\n",
              "5           Paulette Ojeda        NaN\n",
              "6  Balaji Dnyaneshwar Gore        NaN"
            ],
            "text/html": [
              "\n",
              "  <div id=\"df-cab157c6-831a-416f-b65a-7d10b94c90a3\">\n",
              "    <div class=\"colab-df-container\">\n",
              "      <div>\n",
              "<style scoped>\n",
              "    .dataframe tbody tr th:only-of-type {\n",
              "        vertical-align: middle;\n",
              "    }\n",
              "\n",
              "    .dataframe tbody tr th {\n",
              "        vertical-align: top;\n",
              "    }\n",
              "\n",
              "    .dataframe thead th {\n",
              "        text-align: right;\n",
              "    }\n",
              "</style>\n",
              "<table border=\"1\" class=\"dataframe\">\n",
              "  <thead>\n",
              "    <tr style=\"text-align: right;\">\n",
              "      <th></th>\n",
              "      <th>full-name</th>\n",
              "      <th>your-email</th>\n",
              "    </tr>\n",
              "  </thead>\n",
              "  <tbody>\n",
              "    <tr>\n",
              "      <th>0</th>\n",
              "      <td>Pawan Telure</td>\n",
              "      <td>NaN</td>\n",
              "    </tr>\n",
              "    <tr>\n",
              "      <th>1</th>\n",
              "      <td>Stephania Pethard</td>\n",
              "      <td>NaN</td>\n",
              "    </tr>\n",
              "    <tr>\n",
              "      <th>2</th>\n",
              "      <td>test</td>\n",
              "      <td>NaN</td>\n",
              "    </tr>\n",
              "    <tr>\n",
              "      <th>5</th>\n",
              "      <td>Paulette Ojeda</td>\n",
              "      <td>NaN</td>\n",
              "    </tr>\n",
              "    <tr>\n",
              "      <th>6</th>\n",
              "      <td>Balaji Dnyaneshwar Gore</td>\n",
              "      <td>NaN</td>\n",
              "    </tr>\n",
              "  </tbody>\n",
              "</table>\n",
              "</div>\n",
              "      <button class=\"colab-df-convert\" onclick=\"convertToInteractive('df-cab157c6-831a-416f-b65a-7d10b94c90a3')\"\n",
              "              title=\"Convert this dataframe to an interactive table.\"\n",
              "              style=\"display:none;\">\n",
              "        \n",
              "  <svg xmlns=\"http://www.w3.org/2000/svg\" height=\"24px\"viewBox=\"0 0 24 24\"\n",
              "       width=\"24px\">\n",
              "    <path d=\"M0 0h24v24H0V0z\" fill=\"none\"/>\n",
              "    <path d=\"M18.56 5.44l.94 2.06.94-2.06 2.06-.94-2.06-.94-.94-2.06-.94 2.06-2.06.94zm-11 1L8.5 8.5l.94-2.06 2.06-.94-2.06-.94L8.5 2.5l-.94 2.06-2.06.94zm10 10l.94 2.06.94-2.06 2.06-.94-2.06-.94-.94-2.06-.94 2.06-2.06.94z\"/><path d=\"M17.41 7.96l-1.37-1.37c-.4-.4-.92-.59-1.43-.59-.52 0-1.04.2-1.43.59L10.3 9.45l-7.72 7.72c-.78.78-.78 2.05 0 2.83L4 21.41c.39.39.9.59 1.41.59.51 0 1.02-.2 1.41-.59l7.78-7.78 2.81-2.81c.8-.78.8-2.07 0-2.86zM5.41 20L4 18.59l7.72-7.72 1.47 1.35L5.41 20z\"/>\n",
              "  </svg>\n",
              "      </button>\n",
              "      \n",
              "  <style>\n",
              "    .colab-df-container {\n",
              "      display:flex;\n",
              "      flex-wrap:wrap;\n",
              "      gap: 12px;\n",
              "    }\n",
              "\n",
              "    .colab-df-convert {\n",
              "      background-color: #E8F0FE;\n",
              "      border: none;\n",
              "      border-radius: 50%;\n",
              "      cursor: pointer;\n",
              "      display: none;\n",
              "      fill: #1967D2;\n",
              "      height: 32px;\n",
              "      padding: 0 0 0 0;\n",
              "      width: 32px;\n",
              "    }\n",
              "\n",
              "    .colab-df-convert:hover {\n",
              "      background-color: #E2EBFA;\n",
              "      box-shadow: 0px 1px 2px rgba(60, 64, 67, 0.3), 0px 1px 3px 1px rgba(60, 64, 67, 0.15);\n",
              "      fill: #174EA6;\n",
              "    }\n",
              "\n",
              "    [theme=dark] .colab-df-convert {\n",
              "      background-color: #3B4455;\n",
              "      fill: #D2E3FC;\n",
              "    }\n",
              "\n",
              "    [theme=dark] .colab-df-convert:hover {\n",
              "      background-color: #434B5C;\n",
              "      box-shadow: 0px 1px 3px 1px rgba(0, 0, 0, 0.15);\n",
              "      filter: drop-shadow(0px 1px 2px rgba(0, 0, 0, 0.3));\n",
              "      fill: #FFFFFF;\n",
              "    }\n",
              "  </style>\n",
              "\n",
              "      <script>\n",
              "        const buttonEl =\n",
              "          document.querySelector('#df-cab157c6-831a-416f-b65a-7d10b94c90a3 button.colab-df-convert');\n",
              "        buttonEl.style.display =\n",
              "          google.colab.kernel.accessAllowed ? 'block' : 'none';\n",
              "\n",
              "        async function convertToInteractive(key) {\n",
              "          const element = document.querySelector('#df-cab157c6-831a-416f-b65a-7d10b94c90a3');\n",
              "          const dataTable =\n",
              "            await google.colab.kernel.invokeFunction('convertToInteractive',\n",
              "                                                     [key], {});\n",
              "          if (!dataTable) return;\n",
              "\n",
              "          const docLinkHtml = 'Like what you see? Visit the ' +\n",
              "            '<a target=\"_blank\" href=https://colab.research.google.com/notebooks/data_table.ipynb>data table notebook</a>'\n",
              "            + ' to learn more about interactive tables.';\n",
              "          element.innerHTML = '';\n",
              "          dataTable['output_type'] = 'display_data';\n",
              "          await google.colab.output.renderOutput(dataTable, element);\n",
              "          const docLink = document.createElement('div');\n",
              "          docLink.innerHTML = docLinkHtml;\n",
              "          element.appendChild(docLink);\n",
              "        }\n",
              "      </script>\n",
              "    </div>\n",
              "  </div>\n",
              "  "
            ]
          },
          "metadata": {},
          "execution_count": 13
        }
      ],
      "source": [
        "#adm18_new = adm18[full-name\", \"your-email\"]\n",
        "cols = [4, 5]\n",
        "adm18_new = adm18[adm18.columns[cols]]\n",
        "adm18_new.head()"
      ]
    },
    {
      "cell_type": "code",
      "source": [
        "adm18_new = adm18[['Submitted','full-name', 'your-email', 'email-id', 'phone-no', 'program', 'state', 'city', 'Branch', 'msg']]\n",
        "adm18_new.head()"
      ],
      "metadata": {
        "colab": {
          "base_uri": "https://localhost:8080/",
          "height": 250
        },
        "id": "Elam5-8jOuyk",
        "outputId": "1f8f506b-c4e8-44ab-fe5e-973372c21810"
      },
      "execution_count": 14,
      "outputs": [
        {
          "output_type": "execute_result",
          "data": {
            "text/plain": [
              "             Submitted                full-name your-email  \\\n",
              "0  2022-07-30 12:02:21             Pawan Telure        NaN   \n",
              "1  2022-07-30 10:47:01        Stephania Pethard        NaN   \n",
              "2  2022-07-30 10:35:40                     test        NaN   \n",
              "5  2022-07-30 04:37:29           Paulette Ojeda        NaN   \n",
              "6  2022-07-30 02:56:30  Balaji Dnyaneshwar Gore        NaN   \n",
              "\n",
              "                   email-id     phone-no program           state    city  \\\n",
              "0    pavantelure0@gmail.com   8767711716  B.Tech     Maharashtra  Georai   \n",
              "1      ga89uo828@outlook.sa          NaN     NaN             NaN     NaN   \n",
              "2                mit@asia.n   4444444444  M.Tech  Andhra Pradesh   qwert   \n",
              "5       uc73ko01@outlook.cz  31-55-04-03     NaN             NaN     NaN   \n",
              "6  balajigore2021@gmail.com  77768 95961  B.Tech             NaN     NaN   \n",
              "\n",
              "                           Branch  msg  \n",
              "0  Computer Science & Engineering  NaN  \n",
              "1                             NaN  NaN  \n",
              "2                             NaN  NaN  \n",
              "5                             NaN  NaN  \n",
              "6  Computer Science & Engineering  NaN  "
            ],
            "text/html": [
              "\n",
              "  <div id=\"df-f7ac041c-bd8c-4229-8b51-2cd1139c8638\">\n",
              "    <div class=\"colab-df-container\">\n",
              "      <div>\n",
              "<style scoped>\n",
              "    .dataframe tbody tr th:only-of-type {\n",
              "        vertical-align: middle;\n",
              "    }\n",
              "\n",
              "    .dataframe tbody tr th {\n",
              "        vertical-align: top;\n",
              "    }\n",
              "\n",
              "    .dataframe thead th {\n",
              "        text-align: right;\n",
              "    }\n",
              "</style>\n",
              "<table border=\"1\" class=\"dataframe\">\n",
              "  <thead>\n",
              "    <tr style=\"text-align: right;\">\n",
              "      <th></th>\n",
              "      <th>Submitted</th>\n",
              "      <th>full-name</th>\n",
              "      <th>your-email</th>\n",
              "      <th>email-id</th>\n",
              "      <th>phone-no</th>\n",
              "      <th>program</th>\n",
              "      <th>state</th>\n",
              "      <th>city</th>\n",
              "      <th>Branch</th>\n",
              "      <th>msg</th>\n",
              "    </tr>\n",
              "  </thead>\n",
              "  <tbody>\n",
              "    <tr>\n",
              "      <th>0</th>\n",
              "      <td>2022-07-30 12:02:21</td>\n",
              "      <td>Pawan Telure</td>\n",
              "      <td>NaN</td>\n",
              "      <td>pavantelure0@gmail.com</td>\n",
              "      <td>8767711716</td>\n",
              "      <td>B.Tech</td>\n",
              "      <td>Maharashtra</td>\n",
              "      <td>Georai</td>\n",
              "      <td>Computer Science &amp; Engineering</td>\n",
              "      <td>NaN</td>\n",
              "    </tr>\n",
              "    <tr>\n",
              "      <th>1</th>\n",
              "      <td>2022-07-30 10:47:01</td>\n",
              "      <td>Stephania Pethard</td>\n",
              "      <td>NaN</td>\n",
              "      <td>ga89uo828@outlook.sa</td>\n",
              "      <td>NaN</td>\n",
              "      <td>NaN</td>\n",
              "      <td>NaN</td>\n",
              "      <td>NaN</td>\n",
              "      <td>NaN</td>\n",
              "      <td>NaN</td>\n",
              "    </tr>\n",
              "    <tr>\n",
              "      <th>2</th>\n",
              "      <td>2022-07-30 10:35:40</td>\n",
              "      <td>test</td>\n",
              "      <td>NaN</td>\n",
              "      <td>mit@asia.n</td>\n",
              "      <td>4444444444</td>\n",
              "      <td>M.Tech</td>\n",
              "      <td>Andhra Pradesh</td>\n",
              "      <td>qwert</td>\n",
              "      <td>NaN</td>\n",
              "      <td>NaN</td>\n",
              "    </tr>\n",
              "    <tr>\n",
              "      <th>5</th>\n",
              "      <td>2022-07-30 04:37:29</td>\n",
              "      <td>Paulette Ojeda</td>\n",
              "      <td>NaN</td>\n",
              "      <td>uc73ko01@outlook.cz</td>\n",
              "      <td>31-55-04-03</td>\n",
              "      <td>NaN</td>\n",
              "      <td>NaN</td>\n",
              "      <td>NaN</td>\n",
              "      <td>NaN</td>\n",
              "      <td>NaN</td>\n",
              "    </tr>\n",
              "    <tr>\n",
              "      <th>6</th>\n",
              "      <td>2022-07-30 02:56:30</td>\n",
              "      <td>Balaji Dnyaneshwar Gore</td>\n",
              "      <td>NaN</td>\n",
              "      <td>balajigore2021@gmail.com</td>\n",
              "      <td>77768 95961</td>\n",
              "      <td>B.Tech</td>\n",
              "      <td>NaN</td>\n",
              "      <td>NaN</td>\n",
              "      <td>Computer Science &amp; Engineering</td>\n",
              "      <td>NaN</td>\n",
              "    </tr>\n",
              "  </tbody>\n",
              "</table>\n",
              "</div>\n",
              "      <button class=\"colab-df-convert\" onclick=\"convertToInteractive('df-f7ac041c-bd8c-4229-8b51-2cd1139c8638')\"\n",
              "              title=\"Convert this dataframe to an interactive table.\"\n",
              "              style=\"display:none;\">\n",
              "        \n",
              "  <svg xmlns=\"http://www.w3.org/2000/svg\" height=\"24px\"viewBox=\"0 0 24 24\"\n",
              "       width=\"24px\">\n",
              "    <path d=\"M0 0h24v24H0V0z\" fill=\"none\"/>\n",
              "    <path d=\"M18.56 5.44l.94 2.06.94-2.06 2.06-.94-2.06-.94-.94-2.06-.94 2.06-2.06.94zm-11 1L8.5 8.5l.94-2.06 2.06-.94-2.06-.94L8.5 2.5l-.94 2.06-2.06.94zm10 10l.94 2.06.94-2.06 2.06-.94-2.06-.94-.94-2.06-.94 2.06-2.06.94z\"/><path d=\"M17.41 7.96l-1.37-1.37c-.4-.4-.92-.59-1.43-.59-.52 0-1.04.2-1.43.59L10.3 9.45l-7.72 7.72c-.78.78-.78 2.05 0 2.83L4 21.41c.39.39.9.59 1.41.59.51 0 1.02-.2 1.41-.59l7.78-7.78 2.81-2.81c.8-.78.8-2.07 0-2.86zM5.41 20L4 18.59l7.72-7.72 1.47 1.35L5.41 20z\"/>\n",
              "  </svg>\n",
              "      </button>\n",
              "      \n",
              "  <style>\n",
              "    .colab-df-container {\n",
              "      display:flex;\n",
              "      flex-wrap:wrap;\n",
              "      gap: 12px;\n",
              "    }\n",
              "\n",
              "    .colab-df-convert {\n",
              "      background-color: #E8F0FE;\n",
              "      border: none;\n",
              "      border-radius: 50%;\n",
              "      cursor: pointer;\n",
              "      display: none;\n",
              "      fill: #1967D2;\n",
              "      height: 32px;\n",
              "      padding: 0 0 0 0;\n",
              "      width: 32px;\n",
              "    }\n",
              "\n",
              "    .colab-df-convert:hover {\n",
              "      background-color: #E2EBFA;\n",
              "      box-shadow: 0px 1px 2px rgba(60, 64, 67, 0.3), 0px 1px 3px 1px rgba(60, 64, 67, 0.15);\n",
              "      fill: #174EA6;\n",
              "    }\n",
              "\n",
              "    [theme=dark] .colab-df-convert {\n",
              "      background-color: #3B4455;\n",
              "      fill: #D2E3FC;\n",
              "    }\n",
              "\n",
              "    [theme=dark] .colab-df-convert:hover {\n",
              "      background-color: #434B5C;\n",
              "      box-shadow: 0px 1px 3px 1px rgba(0, 0, 0, 0.15);\n",
              "      filter: drop-shadow(0px 1px 2px rgba(0, 0, 0, 0.3));\n",
              "      fill: #FFFFFF;\n",
              "    }\n",
              "  </style>\n",
              "\n",
              "      <script>\n",
              "        const buttonEl =\n",
              "          document.querySelector('#df-f7ac041c-bd8c-4229-8b51-2cd1139c8638 button.colab-df-convert');\n",
              "        buttonEl.style.display =\n",
              "          google.colab.kernel.accessAllowed ? 'block' : 'none';\n",
              "\n",
              "        async function convertToInteractive(key) {\n",
              "          const element = document.querySelector('#df-f7ac041c-bd8c-4229-8b51-2cd1139c8638');\n",
              "          const dataTable =\n",
              "            await google.colab.kernel.invokeFunction('convertToInteractive',\n",
              "                                                     [key], {});\n",
              "          if (!dataTable) return;\n",
              "\n",
              "          const docLinkHtml = 'Like what you see? Visit the ' +\n",
              "            '<a target=\"_blank\" href=https://colab.research.google.com/notebooks/data_table.ipynb>data table notebook</a>'\n",
              "            + ' to learn more about interactive tables.';\n",
              "          element.innerHTML = '';\n",
              "          dataTable['output_type'] = 'display_data';\n",
              "          await google.colab.output.renderOutput(dataTable, element);\n",
              "          const docLink = document.createElement('div');\n",
              "          docLink.innerHTML = docLinkHtml;\n",
              "          element.appendChild(docLink);\n",
              "        }\n",
              "      </script>\n",
              "    </div>\n",
              "  </div>\n",
              "  "
            ]
          },
          "metadata": {},
          "execution_count": 14
        }
      ]
    },
    {
      "cell_type": "code",
      "execution_count": 27,
      "metadata": {
        "colab": {
          "base_uri": "https://localhost:8080/"
        },
        "id": "q7q2nMZO2qv0",
        "outputId": "ea814f1e-63cd-4508-b1d8-aedff0b3c1d1"
      },
      "outputs": [
        {
          "output_type": "execute_result",
          "data": {
            "text/plain": [
              "0"
            ]
          },
          "metadata": {},
          "execution_count": 27
        }
      ],
      "source": [
        "adm18_new = adm18[['Submitted','full-name', 'your-email', 'email-id', 'phone-no', 'program', 'state', 'city', 'Branch', 'msg']]\n",
        "adm18_new.head()\n",
        "adm = adm18_new.sort_values(by = ['program'], ascending=True)\n",
        "\n",
        "#adm18_new['program'] = adm18_new['program'].replace(np.nan, 'B') \n",
        "#print(adm18_new['program'])\n",
        "options = ['M.Tech']\n",
        "  \n",
        "# selecting rows based on condition\n",
        "adm1 = adm.loc[adm['program'].isin(options)]\n",
        "adm1.program.isnull().sum()\n"
      ]
    },
    {
      "cell_type": "code",
      "execution_count": 28,
      "metadata": {
        "colab": {
          "base_uri": "https://localhost:8080/"
        },
        "id": "Hs-SkJbz-eDS",
        "outputId": "18cb286b-8105-4079-e1a5-d3f8227b5aa1"
      },
      "outputs": [
        {
          "output_type": "execute_result",
          "data": {
            "text/plain": [
              "M.Tech    88\n",
              "Name: program, dtype: int64"
            ]
          },
          "metadata": {},
          "execution_count": 28
        }
      ],
      "source": [
        "adm1.program.value_counts()"
      ]
    },
    {
      "cell_type": "code",
      "execution_count": 29,
      "metadata": {
        "colab": {
          "base_uri": "https://localhost:8080/"
        },
        "id": "menpDwDTRcxB",
        "outputId": "cfbc095a-5ce0-4b3e-9dac-b2644a1e5967"
      },
      "outputs": [
        {
          "output_type": "stream",
          "name": "stdout",
          "text": [
            "Submitted     object\n",
            "full-name     object\n",
            "your-email    object\n",
            "email-id      object\n",
            "phone-no      object\n",
            "program       object\n",
            "state         object\n",
            "city          object\n",
            "Branch        object\n",
            "msg           object\n",
            "dtype: object\n"
          ]
        }
      ],
      "source": [
        "print(adm1.dtypes)"
      ]
    },
    {
      "cell_type": "code",
      "execution_count": 30,
      "metadata": {
        "colab": {
          "base_uri": "https://localhost:8080/"
        },
        "id": "odG_poFkRRnA",
        "outputId": "8fc25349-30aa-431c-f28d-714e96ffbe25"
      },
      "outputs": [
        {
          "output_type": "stream",
          "name": "stdout",
          "text": [
            "Submitted     datetime64[ns]\n",
            "full-name             object\n",
            "your-email            object\n",
            "email-id              object\n",
            "phone-no              object\n",
            "program               object\n",
            "state                 object\n",
            "city                  object\n",
            "Branch                object\n",
            "msg                   object\n",
            "dtype: object\n"
          ]
        },
        {
          "output_type": "stream",
          "name": "stderr",
          "text": [
            "<ipython-input-30-e796b4b883a7>:1: SettingWithCopyWarning: \n",
            "A value is trying to be set on a copy of a slice from a DataFrame.\n",
            "Try using .loc[row_indexer,col_indexer] = value instead\n",
            "\n",
            "See the caveats in the documentation: https://pandas.pydata.org/pandas-docs/stable/user_guide/indexing.html#returning-a-view-versus-a-copy\n",
            "  adm1[\"Submitted\"] = pd.to_datetime(adm1[\"Submitted\"])\n"
          ]
        }
      ],
      "source": [
        "adm1[\"Submitted\"] = pd.to_datetime(adm1[\"Submitted\"])\n",
        "print(adm1.dtypes)"
      ]
    },
    {
      "cell_type": "code",
      "execution_count": 32,
      "metadata": {
        "colab": {
          "base_uri": "https://localhost:8080/"
        },
        "id": "09HeH9XaSGGe",
        "outputId": "d2c04a68-0120-4015-b622-41a5f6151c95"
      },
      "outputs": [
        {
          "output_type": "stream",
          "name": "stdout",
          "text": [
            "               Submitted                 full-name your-email  \\\n",
            "2    2022-07-30 10:35:40                      test        NaN   \n",
            "91   2022-07-14 16:00:35   Vivek Vaijinath chaware        NaN   \n",
            "167  2022-07-03 09:09:50  Bharti namderao virulkar        NaN   \n",
            "549  2022-01-24 07:41:04              manishawarad        NaN   \n",
            "631  2022-01-13 06:37:04            Manisha jadhav        NaN   \n",
            "...                  ...                       ...        ...   \n",
            "3758 2020-12-08 04:44:09      Geeta Shivram Metkar        NaN   \n",
            "3786 2020-12-06 03:37:48                    Nikhil        NaN   \n",
            "3797 2020-12-05 06:37:24            Sagar shirsath        NaN   \n",
            "3827 2020-12-03 13:16:57        swaraj vijay walde        NaN   \n",
            "3880 2020-12-02 09:27:43                Sohan Rane        NaN   \n",
            "\n",
            "                        email-id       phone-no program           state  \\\n",
            "2                     mit@asia.n     4444444444  M.Tech  Andhra Pradesh   \n",
            "91     chawarevivek754@gmail.com     8329459773  M.Tech             NaN   \n",
            "167     bhartivirulkar@gmail.com     9370355721  M.Tech             NaN   \n",
            "549      manishamedage@gmail.com     8978696222  M.Tech             NaN   \n",
            "631      manishapjadhv0@mit.asia     9021124834  M.Tech             NaN   \n",
            "...                          ...            ...     ...             ...   \n",
            "3758   geetametkar1998@gmail.com     9011779068  M.Tech             NaN   \n",
            "3786    nikhil.saikia6@gmail.com     6913610447  M.Tech             NaN   \n",
            "3797  shirsathsagar276@gmail.com     7774866654  M.Tech             NaN   \n",
            "3827         swaarajw7@gmail.com     7083291357  M.Tech             NaN   \n",
            "3880      sohanr231998@gmail.com  +919595914511  M.Tech             NaN   \n",
            "\n",
            "       city Branch  msg  \n",
            "2     qwert    NaN  NaN  \n",
            "91      NaN    NaN  NaN  \n",
            "167     NaN    NaN  NaN  \n",
            "549     NaN    NaN  NaN  \n",
            "631     NaN    NaN  NaN  \n",
            "...     ...    ...  ...  \n",
            "3758    NaN    NaN  NaN  \n",
            "3786    NaN    NaN  NaN  \n",
            "3797    NaN    NaN  NaN  \n",
            "3827    NaN    NaN  NaN  \n",
            "3880    NaN    NaN  NaN  \n",
            "\n",
            "[88 rows x 10 columns]\n"
          ]
        }
      ],
      "source": [
        "adm1.sort_values(by='Submitted', inplace=True, ascending=False)\n",
        "print(adm1)\n"
      ]
    },
    {
      "cell_type": "code",
      "execution_count": 33,
      "metadata": {
        "id": "12MOZPZHzCSK"
      },
      "outputs": [],
      "source": [
        "adm1.to_excel('16-nov-B.Tech_Website_Enquiries.xlsx')"
      ]
    },
    {
      "cell_type": "markdown",
      "source": [
        "# New Section"
      ],
      "metadata": {
        "id": "W058k4aTPdFf"
      }
    }
  ],
  "metadata": {
    "colab": {
      "provenance": [],
      "include_colab_link": true
    },
    "kernelspec": {
      "display_name": "Python 3",
      "name": "python3"
    },
    "language_info": {
      "name": "python"
    }
  },
  "nbformat": 4,
  "nbformat_minor": 0
}