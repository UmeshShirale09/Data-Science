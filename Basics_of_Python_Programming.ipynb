{
  "nbformat": 4,
  "nbformat_minor": 0,
  "metadata": {
    "colab": {
      "provenance": [],
      "authorship_tag": "ABX9TyPRFluWoTIQ52YXVh09//Cu",
      "include_colab_link": true
    },
    "kernelspec": {
      "name": "python3",
      "display_name": "Python 3"
    },
    "language_info": {
      "name": "python"
    }
  },
  "cells": [
    {
      "cell_type": "markdown",
      "metadata": {
        "id": "view-in-github",
        "colab_type": "text"
      },
      "source": [
        "<a href=\"https://colab.research.google.com/github/UmeshShirale09/Data-Science/blob/main/Basics_of_Python_Programming.ipynb\" target=\"_parent\"><img src=\"https://colab.research.google.com/assets/colab-badge.svg\" alt=\"Open In Colab\"/></a>"
      ]
    },
    {
      "cell_type": "markdown",
      "source": [
        "**Basics of Python Programming**\n",
        "---\n",
        "\n"
      ],
      "metadata": {
        "id": "9ehubmp2gpN6"
      }
    },
    {
      "cell_type": "markdown",
      "source": [
        "**1. Comments in python**\n",
        "---\n",
        "\n"
      ],
      "metadata": {
        "id": "BCyy4NkGhtsq"
      }
    },
    {
      "cell_type": "code",
      "source": [
        "# single line comment"
      ],
      "metadata": {
        "id": "PDd3yYTMg0Zw"
      },
      "execution_count": 1,
      "outputs": []
    },
    {
      "cell_type": "code",
      "source": [
        "\"\"\"\n",
        "For \n",
        "multiline \n",
        "comments\n",
        "\n",
        "\"\"\""
      ],
      "metadata": {
        "colab": {
          "base_uri": "https://localhost:8080/",
          "height": 35
        },
        "id": "8WjPSQH9h966",
        "outputId": "40439cca-d2b8-4b9a-ba16-eeca7e582af4"
      },
      "execution_count": 3,
      "outputs": [
        {
          "output_type": "execute_result",
          "data": {
            "text/plain": [
              "'\\nFor \\nmultiline \\ncomments\\n\\n'"
            ],
            "application/vnd.google.colaboratory.intrinsic+json": {
              "type": "string"
            }
          },
          "metadata": {},
          "execution_count": 3
        }
      ]
    },
    {
      "cell_type": "markdown",
      "source": [
        "**2. Python Identifier**\n",
        "---\n",
        "\n",
        "\n",
        "*   Python identifier is the name given to the variable\n",
        "*   Python idenditfier uses A-Z or a-z or _ or 0-9 to create variable name\n",
        "*   Spaces are not allowed\n",
        "\n",
        "```\n",
        "# This is formatted as code\n",
        "```\n",
        "\n"
      ],
      "metadata": {
        "id": "5tTEO5WSiRZX"
      }
    },
    {
      "cell_type": "code",
      "source": [
        "# Valid variable name\n",
        "MyName = \"Umesh\"\n",
        "My_Name = \"Umesh\"\n",
        "My_Name_1 = \"Umesh\"\n",
        "x = 14\n",
        "z = 45.5\n",
        "a = True"
      ],
      "metadata": {
        "id": "S4aX0xrFiHqK"
      },
      "execution_count": 10,
      "outputs": []
    },
    {
      "cell_type": "code",
      "source": [
        "# Invalid variable name\n",
        "# This will give you error i.e.syntax error\n",
        "My Name = \"Umesh\"\n",
        "3dfIgh = \"Umesh\"\n",
        "My#Name = \"Umesh\""
      ],
      "metadata": {
        "colab": {
          "base_uri": "https://localhost:8080/",
          "height": 132
        },
        "id": "L2x8fmPPjaoH",
        "outputId": "8d9d38fa-5116-4981-e636-9507ea3e7952"
      },
      "execution_count": 12,
      "outputs": [
        {
          "output_type": "error",
          "ename": "SyntaxError",
          "evalue": "ignored",
          "traceback": [
            "\u001b[0;36m  File \u001b[0;32m\"<ipython-input-12-83c1de55c163>\"\u001b[0;36m, line \u001b[0;32m3\u001b[0m\n\u001b[0;31m    My Name = \"Umesh\"\u001b[0m\n\u001b[0m       ^\u001b[0m\n\u001b[0;31mSyntaxError\u001b[0m\u001b[0;31m:\u001b[0m invalid syntax\n"
          ]
        }
      ]
    },
    {
      "cell_type": "markdown",
      "source": [
        "**3. Reserved Keywords**\n",
        "---\n",
        "\n",
        "\n",
        "A list of reserved keyword in python\n",
        "1.   and               \n",
        "2.   as\n",
        "3.   assert\n",
        "4.   break\n",
        "5.   class\n",
        "6.   continue\n",
        "7.   def\n",
        "8.   del\n",
        "9.   elif\n",
        "10.  else\n",
        "11.  except\n",
        "12.  False\n",
        "13.  finally\n",
        "14.  for\n",
        "15.  from\n",
        "16.  global\n",
        "17.  if \n",
        "18.  import\n",
        "19.  in\n",
        "20.  is\n",
        "21.  lambda\n",
        "22.  None\n",
        "23.  nonlocal\n",
        "24.  not\n",
        "25.  or\n",
        "26.  pass\n",
        "27.  raise \n",
        "28.  return\n",
        "29.  True\n",
        "30.  try\n",
        "31.  while\n",
        "32.  with\n",
        "33.  yield\n",
        "\n"
      ],
      "metadata": {
        "id": "qN0We3FUmlM6"
      }
    },
    {
      "cell_type": "markdown",
      "source": [
        "**4. Variables**\n",
        "---\n",
        "\n",
        "\n",
        "*   Variables hold the value\n",
        "*   The process of writing variable name is called declaring the variable.\n",
        "*   In python programming there is no need to specify the data type, python interpreter do it automatically.\n",
        "* Assignment operator  \"=\" is used\n",
        "\n"
      ],
      "metadata": {
        "id": "3vX32QpSpQNq"
      }
    },
    {
      "cell_type": "code",
      "source": [
        "# Variable name \n",
        "name = 'Umesh'   \n",
        "amount = 23000   \n",
        "age = 65.5\n",
        "print(name)                # print value\n",
        "print(type(name))          # print class\n",
        "print(amount)              # print value\n",
        "print(type(amount))        # print class\n",
        "print(age)                 # print value\n",
        "print(type(age))           # print class\n"
      ],
      "metadata": {
        "colab": {
          "base_uri": "https://localhost:8080/"
        },
        "id": "XcsyqxkdmiRz",
        "outputId": "6cf9e895-8f33-4093-f05c-304d675f4971"
      },
      "execution_count": 13,
      "outputs": [
        {
          "output_type": "stream",
          "name": "stdout",
          "text": [
            "Umesh\n",
            "<class 'str'>\n",
            "23000\n",
            "<class 'int'>\n",
            "65.5\n",
            "<class 'float'>\n"
          ]
        }
      ]
    },
    {
      "cell_type": "markdown",
      "source": [
        "**5. Standard Data Types**\n",
        "---\n",
        "\n",
        "\n",
        "1.   Numeric\n",
        "2.   String\n",
        "3.   List\n",
        "4.   Tuple\n",
        "5.   Dictionary\n",
        "6.   Boolean"
      ],
      "metadata": {
        "id": "S66oI8BgsEQ1"
      }
    },
    {
      "cell_type": "markdown",
      "source": [
        "**1. Numeric Data Type**\n",
        "\n",
        "\n",
        "---\n",
        "*   Integer\n",
        "*   Real Numbers or fractional numbers or floating point numbers\n",
        "    - Floating point numbers contain a decimal or fractional point"
      ],
      "metadata": {
        "id": "Vtkbs1LAscZN"
      }
    },
    {
      "cell_type": "code",
      "source": [
        "# Numeric data types\n",
        "num1 = 45        # integer number\n",
        "num2 = 45.5      # real number or float\n",
        "print(num1)\n",
        "print(type(num1))\n",
        "print(num2)\n",
        "print(type(num2))"
      ],
      "metadata": {
        "colab": {
          "base_uri": "https://localhost:8080/"
        },
        "id": "rvgJVeqgskp3",
        "outputId": "111d8af6-36b1-4ae3-9584-35378a976b40"
      },
      "execution_count": 17,
      "outputs": [
        {
          "output_type": "stream",
          "name": "stdout",
          "text": [
            "45\n",
            "<class 'int'>\n",
            "45.5\n",
            "<class 'float'>\n"
          ]
        }
      ]
    },
    {
      "cell_type": "markdown",
      "source": [
        "**2. String Data Type**\n",
        "\n",
        "---\n",
        "\n",
        "\n",
        "*   A series of sequence of alphbets, numerals and special characters.\n",
        "*   Single quotes or double quotes are used to represent strings.\n",
        "*   There are many operations can be performed on a string.\n",
        "    - Slice operator : [ ] and [ : ]\n",
        "       - Used to take out a subset of string\n",
        "    - Concatenation Operator :  +\n",
        "       - Used to combine two or more than than two strings \n",
        "    - Repetition operator : *\n",
        "       - Used to repeat the same string several times\n",
        "\n"
      ],
      "metadata": {
        "id": "QO22pl6AvIWP"
      }
    },
    {
      "cell_type": "code",
      "source": [
        "# String\n",
        "name = 'Umesh'\n",
        "print(name)\n",
        "print(type(name))"
      ],
      "metadata": {
        "colab": {
          "base_uri": "https://localhost:8080/"
        },
        "id": "t1GLm8cCuNqj",
        "outputId": "5c2776ad-e4b4-4c8b-c00e-3cf0d989bbbf"
      },
      "execution_count": 18,
      "outputs": [
        {
          "output_type": "stream",
          "name": "stdout",
          "text": [
            "Umesh\n",
            "<class 'str'>\n"
          ]
        }
      ]
    },
    {
      "cell_type": "code",
      "source": [
        "# Slice Operator\n",
        "name = 'Hi Umesh!'\n",
        "print(name[1])\n",
        "print(name[0:6])\n",
        "print(name[0:8:2])\n"
      ],
      "metadata": {
        "colab": {
          "base_uri": "https://localhost:8080/"
        },
        "id": "NP1IW5qUys0i",
        "outputId": "91643950-de8b-4cf7-96eb-4280f0b16f4a"
      },
      "execution_count": 24,
      "outputs": [
        {
          "output_type": "stream",
          "name": "stdout",
          "text": [
            "i\n",
            "Hi Ume\n",
            "H ms\n"
          ]
        }
      ]
    },
    {
      "cell_type": "code",
      "source": [
        "# Concatenation operator \" + \"\n",
        "name = 'Umesh'\n",
        "print('My name is ' + name)"
      ],
      "metadata": {
        "colab": {
          "base_uri": "https://localhost:8080/"
        },
        "id": "rebtqCty0T3v",
        "outputId": "9d22cf15-1f49-4363-dca5-7959f35c738b"
      },
      "execution_count": 27,
      "outputs": [
        {
          "output_type": "stream",
          "name": "stdout",
          "text": [
            "My name is Umesh\n"
          ]
        }
      ]
    },
    {
      "cell_type": "code",
      "source": [
        "# Repeatation operator \" * \"\n",
        "name = \"Hello Umesh \"\n",
        "print(name * 3)"
      ],
      "metadata": {
        "colab": {
          "base_uri": "https://localhost:8080/"
        },
        "id": "AtEP2XsO24Or",
        "outputId": "f5da7c38-3ff5-42cd-f8fc-75d27f1d576c"
      },
      "execution_count": 29,
      "outputs": [
        {
          "output_type": "stream",
          "name": "stdout",
          "text": [
            "Hello Umesh Hello Umesh Hello Umesh \n"
          ]
        }
      ]
    }
  ]
}