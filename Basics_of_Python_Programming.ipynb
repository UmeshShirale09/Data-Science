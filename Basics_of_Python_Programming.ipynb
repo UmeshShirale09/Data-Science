{
  "nbformat": 4,
  "nbformat_minor": 0,
  "metadata": {
    "colab": {
      "provenance": [],
      "authorship_tag": "ABX9TyP1PabbL2nbJ+iXkDvV8CAi",
      "include_colab_link": true
    },
    "kernelspec": {
      "name": "python3",
      "display_name": "Python 3"
    },
    "language_info": {
      "name": "python"
    }
  },
  "cells": [
    {
      "cell_type": "markdown",
      "metadata": {
        "id": "view-in-github",
        "colab_type": "text"
      },
      "source": [
        "<a href=\"https://colab.research.google.com/github/UmeshShirale09/Data-Science/blob/main/Basics_of_Python_Programming.ipynb\" target=\"_parent\"><img src=\"https://colab.research.google.com/assets/colab-badge.svg\" alt=\"Open In Colab\"/></a>"
      ]
    },
    {
      "cell_type": "markdown",
      "source": [
        "**Basics of Python Programming**\n",
        "\n",
        "---\n",
        "\n"
      ],
      "metadata": {
        "id": "9ehubmp2gpN6"
      }
    },
    {
      "cell_type": "markdown",
      "source": [
        "**1. Comments in python**\n",
        "\n",
        "---\n",
        "\n"
      ],
      "metadata": {
        "id": "BCyy4NkGhtsq"
      }
    },
    {
      "cell_type": "code",
      "source": [
        "# single line comment"
      ],
      "metadata": {
        "id": "PDd3yYTMg0Zw"
      },
      "execution_count": 1,
      "outputs": []
    },
    {
      "cell_type": "code",
      "source": [
        "\"\"\"\n",
        "For \n",
        "multiline \n",
        "comments\n",
        "\n",
        "\"\"\""
      ],
      "metadata": {
        "colab": {
          "base_uri": "https://localhost:8080/",
          "height": 35
        },
        "id": "8WjPSQH9h966",
        "outputId": "40439cca-d2b8-4b9a-ba16-eeca7e582af4"
      },
      "execution_count": 3,
      "outputs": [
        {
          "output_type": "execute_result",
          "data": {
            "text/plain": [
              "'\\nFor \\nmultiline \\ncomments\\n\\n'"
            ],
            "application/vnd.google.colaboratory.intrinsic+json": {
              "type": "string"
            }
          },
          "metadata": {},
          "execution_count": 3
        }
      ]
    },
    {
      "cell_type": "markdown",
      "source": [
        "**2. Python Identifier**\n",
        "\n",
        "\n",
        "---\n",
        "\n",
        "\n",
        "*   Python identifier is the name given to the variable\n",
        "*   Python idenditfier uses A-Z or a-z or _ or 0-9 to create variable name\n",
        "*   Spaces are not allowed\n",
        "\n",
        "```\n",
        "# This is formatted as code\n",
        "```\n",
        "\n"
      ],
      "metadata": {
        "id": "5tTEO5WSiRZX"
      }
    },
    {
      "cell_type": "code",
      "source": [
        "# Valid variable name\n",
        "MyName = \"Umesh\"\n",
        "My_Name = \"Umesh\"\n",
        "My_Name_1 = \"Umesh\"\n",
        "x = 14\n",
        "z = 45.5\n",
        "a = True"
      ],
      "metadata": {
        "id": "S4aX0xrFiHqK"
      },
      "execution_count": 10,
      "outputs": []
    },
    {
      "cell_type": "code",
      "source": [
        "# Invalid variable name\n",
        "# This will give you error i.e.syntax error\n",
        "My Name = \"Umesh\"\n",
        "3dfIgh = \"Umesh\"\n",
        "My#Name = \"Umesh\""
      ],
      "metadata": {
        "colab": {
          "base_uri": "https://localhost:8080/",
          "height": 132
        },
        "id": "L2x8fmPPjaoH",
        "outputId": "8d9d38fa-5116-4981-e636-9507ea3e7952"
      },
      "execution_count": 12,
      "outputs": [
        {
          "output_type": "error",
          "ename": "SyntaxError",
          "evalue": "ignored",
          "traceback": [
            "\u001b[0;36m  File \u001b[0;32m\"<ipython-input-12-83c1de55c163>\"\u001b[0;36m, line \u001b[0;32m3\u001b[0m\n\u001b[0;31m    My Name = \"Umesh\"\u001b[0m\n\u001b[0m       ^\u001b[0m\n\u001b[0;31mSyntaxError\u001b[0m\u001b[0;31m:\u001b[0m invalid syntax\n"
          ]
        }
      ]
    },
    {
      "cell_type": "markdown",
      "source": [
        "**Reserved Keywords**\n",
        "\n",
        "\n",
        "---\n",
        "\n",
        "\n",
        "A list of reserved keyword in python\n",
        "1.   and               \n",
        "2.   as\n",
        "3.   assert\n",
        "4.   break\n",
        "5.   class\n",
        "6.   continue\n",
        "7.   def\n",
        "8.   del\n",
        "9.   elif\n",
        "10.  else\n",
        "11.  except\n",
        "12.  False\n",
        "13.  finally\n",
        "14.  for\n",
        "15.  from\n",
        "16.  global\n",
        "17.  if \n",
        "18.  import\n",
        "19.  in\n",
        "20.  is\n",
        "21.  lambda\n",
        "22.  None\n",
        "23.  nonlocal\n",
        "24.  not\n",
        "25.  or\n",
        "26.  pass\n",
        "27.  raise \n",
        "28.  return\n",
        "29.  True\n",
        "30.  try\n",
        "31.  while\n",
        "32.  with\n",
        "33.  yield\n",
        "\n"
      ],
      "metadata": {
        "id": "qN0We3FUmlM6"
      }
    },
    {
      "cell_type": "code",
      "source": [],
      "metadata": {
        "id": "XcsyqxkdmiRz"
      },
      "execution_count": null,
      "outputs": []
    }
  ]
}