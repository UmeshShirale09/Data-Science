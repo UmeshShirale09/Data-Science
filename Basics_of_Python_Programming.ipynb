{
  "nbformat": 4,
  "nbformat_minor": 0,
  "metadata": {
    "colab": {
      "provenance": [],
      "authorship_tag": "ABX9TyOfFPABR5gD3A75vYT23PAd",
      "include_colab_link": true
    },
    "kernelspec": {
      "name": "python3",
      "display_name": "Python 3"
    },
    "language_info": {
      "name": "python"
    }
  },
  "cells": [
    {
      "cell_type": "markdown",
      "metadata": {
        "id": "view-in-github",
        "colab_type": "text"
      },
      "source": [
        "<a href=\"https://colab.research.google.com/github/UmeshShirale09/Data-Science/blob/main/Basics_of_Python_Programming.ipynb\" target=\"_parent\"><img src=\"https://colab.research.google.com/assets/colab-badge.svg\" alt=\"Open In Colab\"/></a>"
      ]
    },
    {
      "cell_type": "markdown",
      "source": [
        "**Basics of Python Programming**"
      ],
      "metadata": {
        "id": "9ehubmp2gpN6"
      }
    },
    {
      "cell_type": "markdown",
      "source": [
        "**1. Comments in python**"
      ],
      "metadata": {
        "id": "BCyy4NkGhtsq"
      }
    },
    {
      "cell_type": "code",
      "source": [
        "# single line comment"
      ],
      "metadata": {
        "id": "PDd3yYTMg0Zw"
      },
      "execution_count": 1,
      "outputs": []
    },
    {
      "cell_type": "code",
      "source": [
        "\"\"\"\n",
        "For \n",
        "multiline \n",
        "comments\n",
        "\n",
        "\"\"\""
      ],
      "metadata": {
        "colab": {
          "base_uri": "https://localhost:8080/",
          "height": 35
        },
        "id": "8WjPSQH9h966",
        "outputId": "40439cca-d2b8-4b9a-ba16-eeca7e582af4"
      },
      "execution_count": 3,
      "outputs": [
        {
          "output_type": "execute_result",
          "data": {
            "text/plain": [
              "'\\nFor \\nmultiline \\ncomments\\n\\n'"
            ],
            "application/vnd.google.colaboratory.intrinsic+json": {
              "type": "string"
            }
          },
          "metadata": {},
          "execution_count": 3
        }
      ]
    },
    {
      "cell_type": "markdown",
      "source": [
        "**2. Python Identifier**\n",
        "*   Python identifier is the name given to the variable\n",
        "*   Python idenditfier uses A-Z or a-z or _ or 0-9 to create variable name\n",
        "*   Spaces are not allowed"
      ],
      "metadata": {
        "id": "5tTEO5WSiRZX"
      }
    },
    {
      "cell_type": "code",
      "source": [
        "# Valid variable name\n",
        "MyName = \"Umesh\"\n",
        "My_Name = \"Umesh\"\n",
        "My_Name_1 = \"Umesh\"\n",
        "x = 14\n",
        "z = 45.5\n",
        "a = True"
      ],
      "metadata": {
        "id": "S4aX0xrFiHqK"
      },
      "execution_count": 10,
      "outputs": []
    },
    {
      "cell_type": "code",
      "source": [
        "# Invalid variable name\n",
        "# This will give you error i.e.syntax error\n",
        "My Name = \"Umesh\"\n",
        "3dfIgh = \"Umesh\"\n",
        "My#Name = \"Umesh\""
      ],
      "metadata": {
        "colab": {
          "base_uri": "https://localhost:8080/",
          "height": 201
        },
        "id": "L2x8fmPPjaoH",
        "outputId": "ceb256fb-ecac-4503-cb20-1100af85bcf6"
      },
      "execution_count": 11,
      "outputs": [
        {
          "output_type": "error",
          "ename": "NameError",
          "evalue": "ignored",
          "traceback": [
            "\u001b[0;31m---------------------------------------------------------------------------\u001b[0m",
            "\u001b[0;31mNameError\u001b[0m                                 Traceback (most recent call last)",
            "\u001b[0;32m<ipython-input-11-257d7e8c1f92>\u001b[0m in \u001b[0;36m<module>\u001b[0;34m\u001b[0m\n\u001b[1;32m      3\u001b[0m \u001b[0;31m#My Name = \"Umesh\"\u001b[0m\u001b[0;34m\u001b[0m\u001b[0;34m\u001b[0m\u001b[0;34m\u001b[0m\u001b[0m\n\u001b[1;32m      4\u001b[0m \u001b[0;31m#3dfIgh = \"Umesh\"\u001b[0m\u001b[0;34m\u001b[0m\u001b[0;34m\u001b[0m\u001b[0;34m\u001b[0m\u001b[0m\n\u001b[0;32m----> 5\u001b[0;31m \u001b[0mMy\u001b[0m\u001b[0;31m#Name = \"Umesh\"\u001b[0m\u001b[0;34m\u001b[0m\u001b[0;34m\u001b[0m\u001b[0m\n\u001b[0m",
            "\u001b[0;31mNameError\u001b[0m: name 'My' is not defined"
          ]
        }
      ]
    }
  ]
}