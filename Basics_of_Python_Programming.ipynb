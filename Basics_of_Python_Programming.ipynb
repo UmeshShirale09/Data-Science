{
  "nbformat": 4,
  "nbformat_minor": 0,
  "metadata": {
    "colab": {
      "provenance": [],
      "authorship_tag": "ABX9TyNnDqRj3abM9PTR6BL+sreC",
      "include_colab_link": true
    },
    "kernelspec": {
      "name": "python3",
      "display_name": "Python 3"
    },
    "language_info": {
      "name": "python"
    }
  },
  "cells": [
    {
      "cell_type": "markdown",
      "metadata": {
        "id": "view-in-github",
        "colab_type": "text"
      },
      "source": [
        "<a href=\"https://colab.research.google.com/github/UmeshShirale09/Data-Science/blob/main/Basics_of_Python_Programming.ipynb\" target=\"_parent\"><img src=\"https://colab.research.google.com/assets/colab-badge.svg\" alt=\"Open In Colab\"/></a>"
      ]
    },
    {
      "cell_type": "markdown",
      "source": [
        "**Basics of Python Programming**\n",
        "---\n",
        "\n"
      ],
      "metadata": {
        "id": "9ehubmp2gpN6"
      }
    },
    {
      "cell_type": "markdown",
      "source": [
        "**What is AI ?**\n",
        "\n",
        "---\n",
        "\n",
        "* Branch of Science\n",
        "* ML, NLP, CV, Soft Computing use combination of this to solve problem.\n",
        "* ML has algorithm : 18 \n",
        "* DL has algorithm : 06"
      ],
      "metadata": {
        "id": "PaMLEknn_2Bx"
      }
    },
    {
      "cell_type": "markdown",
      "source": [
        "**Features of Python**\n",
        "\n",
        "---\n",
        "\n",
        "*   General Purpose Programming Language\n",
        "*   High Level Programming Language\n",
        "*   Easy to access\n",
        "*   Rich libraries\n",
        "*   Dynamically Programming Language\n",
        "*   English-like Command\n",
        "*   Interactive Programming L\n",
        "*   Scalable \n",
        "*   Functional Oriented\n",
        "*   Object Oriented\n",
        "*   Open Source in nature\n",
        "*   Lot of functions are readily available\n",
        "*   Modular Programming Language\n",
        "*   Shell Scripting Capability\n",
        "*   Case Sensitive\n",
        "*   Platform independent\n",
        "*   Iterative\n",
        "*   Multithreading Capability\n",
        "\n",
        "\n",
        "\n"
      ],
      "metadata": {
        "id": "BAeE2UBIWKze"
      }
    },
    {
      "cell_type": "markdown",
      "source": [
        "**Tools**\n",
        "\n",
        "---\n",
        "\n",
        "* Spyder\n",
        "* Jupyter Notebook\n",
        "\n",
        "**Python extension :**\n",
        " * .py\n",
        " * .ipynb"
      ],
      "metadata": {
        "id": "fw7S3zOvNMI5"
      }
    },
    {
      "cell_type": "markdown",
      "source": [
        "**1. Comments in python**\n",
        "---\n",
        "\n"
      ],
      "metadata": {
        "id": "BCyy4NkGhtsq"
      }
    },
    {
      "cell_type": "code",
      "source": [
        "# single line comment"
      ],
      "metadata": {
        "id": "PDd3yYTMg0Zw"
      },
      "execution_count": null,
      "outputs": []
    },
    {
      "cell_type": "code",
      "source": [
        "\"\"\"\n",
        "For \n",
        "multiline \n",
        "comments\n",
        "\n",
        "\"\"\""
      ],
      "metadata": {
        "colab": {
          "base_uri": "https://localhost:8080/",
          "height": 35
        },
        "id": "8WjPSQH9h966",
        "outputId": "40439cca-d2b8-4b9a-ba16-eeca7e582af4"
      },
      "execution_count": null,
      "outputs": [
        {
          "output_type": "execute_result",
          "data": {
            "text/plain": [
              "'\\nFor \\nmultiline \\ncomments\\n\\n'"
            ],
            "application/vnd.google.colaboratory.intrinsic+json": {
              "type": "string"
            }
          },
          "metadata": {},
          "execution_count": 3
        }
      ]
    },
    {
      "cell_type": "markdown",
      "source": [
        "**2. Python Identifier**\n",
        "---\n",
        "\n",
        "\n",
        "*   Python identifier is the name given to the variable\n",
        "*   Python idenditfier uses A-Z or a-z or _ or 0-9 to create variable name\n",
        "*   Spaces are not allowed\n",
        "\n",
        "```\n",
        "# This is formatted as code\n",
        "```\n",
        "\n"
      ],
      "metadata": {
        "id": "5tTEO5WSiRZX"
      }
    },
    {
      "cell_type": "code",
      "source": [
        "# Valid variable name\n",
        "MyName = \"Umesh\"\n",
        "My_Name = \"Umesh\"\n",
        "My_Name_1 = \"Umesh\"\n",
        "x = 14\n",
        "z = 45.5\n",
        "a = True"
      ],
      "metadata": {
        "id": "S4aX0xrFiHqK"
      },
      "execution_count": null,
      "outputs": []
    },
    {
      "cell_type": "code",
      "source": [
        "# Invalid variable name\n",
        "# This will give you error i.e.syntax error\n",
        "My Name = \"Umesh\"\n",
        "3dfIgh = \"Umesh\"\n",
        "My#Name = \"Umesh\""
      ],
      "metadata": {
        "colab": {
          "base_uri": "https://localhost:8080/",
          "height": 132
        },
        "id": "L2x8fmPPjaoH",
        "outputId": "8d9d38fa-5116-4981-e636-9507ea3e7952"
      },
      "execution_count": null,
      "outputs": [
        {
          "output_type": "error",
          "ename": "SyntaxError",
          "evalue": "ignored",
          "traceback": [
            "\u001b[0;36m  File \u001b[0;32m\"<ipython-input-12-83c1de55c163>\"\u001b[0;36m, line \u001b[0;32m3\u001b[0m\n\u001b[0;31m    My Name = \"Umesh\"\u001b[0m\n\u001b[0m       ^\u001b[0m\n\u001b[0;31mSyntaxError\u001b[0m\u001b[0;31m:\u001b[0m invalid syntax\n"
          ]
        }
      ]
    },
    {
      "cell_type": "markdown",
      "source": [
        "**3. Reserved Keywords**\n",
        "---\n",
        "\n",
        "\n",
        "A list of reserved keyword in python\n",
        "1.   and               \n",
        "2.   as\n",
        "3.   assert\n",
        "4.   break\n",
        "5.   class\n",
        "6.   continue\n",
        "7.   def\n",
        "8.   del\n",
        "9.   elif\n",
        "10.  else\n",
        "11.  except\n",
        "12.  False\n",
        "13.  finally\n",
        "14.  for\n",
        "15.  from\n",
        "16.  global\n",
        "17.  if \n",
        "18.  import\n",
        "19.  in\n",
        "20.  is\n",
        "21.  lambda\n",
        "22.  None\n",
        "23.  nonlocal\n",
        "24.  not\n",
        "25.  or\n",
        "26.  pass\n",
        "27.  raise \n",
        "28.  return\n",
        "29.  True\n",
        "30.  try\n",
        "31.  while\n",
        "32.  with\n",
        "33.  yield\n",
        "\n"
      ],
      "metadata": {
        "id": "qN0We3FUmlM6"
      }
    },
    {
      "cell_type": "markdown",
      "source": [
        "**4. Variables**\n",
        "---\n",
        "\n",
        "\n",
        "*   Variables hold the value\n",
        "*   The process of writing variable name is called declaring the variable.\n",
        "*   In python programming there is no need to specify the data type, python interpreter do it automatically.\n",
        "* Assignment operator  \"=\" is used\n",
        "\n"
      ],
      "metadata": {
        "id": "3vX32QpSpQNq"
      }
    },
    {
      "cell_type": "code",
      "source": [
        "# Variable name \n",
        "name = 'Umesh'   \n",
        "amount = 23000   \n",
        "age = 65.5\n",
        "print(name)                # print value\n",
        "print(type(name))          # print class\n",
        "print(amount)              # print value\n",
        "print(type(amount))        # print class\n",
        "print(age)                 # print value\n",
        "print(type(age))           # print class\n"
      ],
      "metadata": {
        "colab": {
          "base_uri": "https://localhost:8080/"
        },
        "id": "XcsyqxkdmiRz",
        "outputId": "6cf9e895-8f33-4093-f05c-304d675f4971"
      },
      "execution_count": null,
      "outputs": [
        {
          "output_type": "stream",
          "name": "stdout",
          "text": [
            "Umesh\n",
            "<class 'str'>\n",
            "23000\n",
            "<class 'int'>\n",
            "65.5\n",
            "<class 'float'>\n"
          ]
        }
      ]
    },
    {
      "cell_type": "markdown",
      "source": [
        "**5. Standard Data Types**\n",
        "---\n",
        "1.   Numeric\n",
        "2.   String\n",
        "3.   List\n",
        "4.   Tuple\n",
        "5.   Dictionary\n",
        "6.   Boolean"
      ],
      "metadata": {
        "id": "S66oI8BgsEQ1"
      }
    },
    {
      "cell_type": "markdown",
      "source": [
        "**Standard Data Types**\n",
        "\n",
        "---\n",
        "\n",
        "Mutable Data Type : means object can be changed\n",
        "* List\n",
        "* Dictionary\n",
        "(Series = column & vector = row)\n",
        "Array : 1 D = Vector\n",
        "        2 D = Matrix\n",
        "\n",
        "Immutabale Data Types:\n",
        "means object/values cannot be change ones it is assigned\n",
        "* Tuple\n",
        "* Strings"
      ],
      "metadata": {
        "id": "nHUvgWuzXHxO"
      }
    },
    {
      "cell_type": "markdown",
      "source": [
        "**1. Numeric Data Type**\n",
        "\n",
        "---\n",
        "*   Integer\n",
        "*   Immutable\n",
        "*   Real Numbers or fractional numbers or floating point numbers\n",
        "    - Floating point numbers contain a decimal or fractional point"
      ],
      "metadata": {
        "id": "Vtkbs1LAscZN"
      }
    },
    {
      "cell_type": "markdown",
      "source": [
        "**Data Type**\n",
        "\n",
        "---\n",
        "\n",
        "* Integer\n",
        "* Float\n",
        "* Complex\n",
        "* Strings\n",
        "* Boolean => True/False"
      ],
      "metadata": {
        "id": "Aex5VklnYzNY"
      }
    },
    {
      "cell_type": "code",
      "source": [
        "# Integer\n",
        "print(1) # command publish the output\n",
        "\n",
        "a= 10\n",
        "type(a)\n",
        "\n",
        "print(2+6)  # addition\n",
        "print(12*3) # multiplication\n",
        "type(a)"
      ],
      "metadata": {
        "colab": {
          "base_uri": "https://localhost:8080/"
        },
        "id": "fP_QqVfBZb1E",
        "outputId": "d4fb256c-e13c-4d6f-dad7-63b10124bf1b"
      },
      "execution_count": null,
      "outputs": [
        {
          "output_type": "stream",
          "name": "stdout",
          "text": [
            "1\n",
            "8\n",
            "36\n"
          ]
        },
        {
          "output_type": "execute_result",
          "data": {
            "text/plain": [
              "int"
            ]
          },
          "metadata": {},
          "execution_count": 5
        }
      ]
    },
    {
      "cell_type": "code",
      "source": [
        "1+4 # Execute and throws output"
      ],
      "metadata": {
        "colab": {
          "base_uri": "https://localhost:8080/"
        },
        "id": "x5edCaGFcZ0L",
        "outputId": "953ae9e9-cae9-4d2f-c310-ea9382f490a9"
      },
      "execution_count": null,
      "outputs": [
        {
          "output_type": "execute_result",
          "data": {
            "text/plain": [
              "5"
            ]
          },
          "metadata": {},
          "execution_count": 6
        }
      ]
    },
    {
      "cell_type": "markdown",
      "source": [
        "**Variable**\n",
        "\n",
        "---\n",
        "* Variable is a memory pointer.\n",
        "* There is no need to define data type in python.\n",
        "* we can check data type using type command\n",
        "  eg. a = 5 \n",
        "      type(a)"
      ],
      "metadata": {
        "id": "gfmBHiPMc3sJ"
      }
    },
    {
      "cell_type": "code",
      "source": [
        "# Float\n",
        "print(11.5)\n",
        "x = 11.2 \n",
        "print(x)\n",
        "print(5.5+3.6)\n",
        "type(x)"
      ],
      "metadata": {
        "colab": {
          "base_uri": "https://localhost:8080/"
        },
        "id": "KKtoBeSzbuMr",
        "outputId": "07ab0a84-f052-4584-b1c4-e6032cb1fde4"
      },
      "execution_count": null,
      "outputs": [
        {
          "output_type": "stream",
          "name": "stdout",
          "text": [
            "11.5\n",
            "11.2\n",
            "9.1\n"
          ]
        },
        {
          "output_type": "execute_result",
          "data": {
            "text/plain": [
              "float"
            ]
          },
          "metadata": {},
          "execution_count": 9
        }
      ]
    },
    {
      "cell_type": "code",
      "source": [
        "# Complex\n",
        "a = 2+3j\n",
        "\n",
        "print(a)\n",
        "type(a)"
      ],
      "metadata": {
        "colab": {
          "base_uri": "https://localhost:8080/"
        },
        "id": "2D06K5gncziQ",
        "outputId": "1afd15ff-b724-46a8-9168-7e7c7ba96316"
      },
      "execution_count": null,
      "outputs": [
        {
          "output_type": "stream",
          "name": "stdout",
          "text": [
            "(2+3j)\n"
          ]
        },
        {
          "output_type": "execute_result",
          "data": {
            "text/plain": [
              "complex"
            ]
          },
          "metadata": {},
          "execution_count": 12
        }
      ]
    },
    {
      "cell_type": "code",
      "source": [
        "# Boolean\n",
        "\n",
        "a = True\n",
        "print(a)\n",
        "type(a)"
      ],
      "metadata": {
        "colab": {
          "base_uri": "https://localhost:8080/"
        },
        "id": "5cJrbUWWeNpZ",
        "outputId": "83549d0e-0bfa-42d2-d0c6-f372e8af6e9f"
      },
      "execution_count": null,
      "outputs": [
        {
          "output_type": "stream",
          "name": "stdout",
          "text": [
            "True\n"
          ]
        },
        {
          "output_type": "execute_result",
          "data": {
            "text/plain": [
              "bool"
            ]
          },
          "metadata": {},
          "execution_count": 14
        }
      ]
    },
    {
      "cell_type": "code",
      "source": [
        "# Numeric data types\n",
        "num1 = 45        # integer number\n",
        "num2 = 45.5      # real number or float\n",
        "print(num1)\n",
        "print(type(num1))\n",
        "print(num2)\n",
        "print(type(num2))"
      ],
      "metadata": {
        "colab": {
          "base_uri": "https://localhost:8080/"
        },
        "id": "rvgJVeqgskp3",
        "outputId": "111d8af6-36b1-4ae3-9584-35378a976b40"
      },
      "execution_count": null,
      "outputs": [
        {
          "output_type": "stream",
          "name": "stdout",
          "text": [
            "45\n",
            "<class 'int'>\n",
            "45.5\n",
            "<class 'float'>\n"
          ]
        }
      ]
    },
    {
      "cell_type": "markdown",
      "source": [
        "**2. String Data Type**\n",
        "\n",
        "---\n",
        "\n",
        "\n",
        "*   A series of sequence of alphbets, numerals and special characters.\n",
        "*   Single quotes or double quotes are used to represent strings.\n",
        "*   String is immutable, so we cant change it.\n",
        "*   There are many operations can be performed on a string.\n",
        "    - Slice operator : [ ] and [ : ]\n",
        "       - Used to take out a subset of string\n",
        "    - Concatenation Operator :  +\n",
        "       - Used to combine two or more than than two strings \n",
        "    - Repetition operator : *\n",
        "       - Used to repeat the same string several times\n",
        "\n"
      ],
      "metadata": {
        "id": "QO22pl6AvIWP"
      }
    },
    {
      "cell_type": "code",
      "source": [
        "# String\n",
        "name = 'Umesh'\n",
        "print(name)\n",
        "print(type(name))"
      ],
      "metadata": {
        "colab": {
          "base_uri": "https://localhost:8080/"
        },
        "id": "t1GLm8cCuNqj",
        "outputId": "5c2776ad-e4b4-4c8b-c00e-3cf0d989bbbf"
      },
      "execution_count": null,
      "outputs": [
        {
          "output_type": "stream",
          "name": "stdout",
          "text": [
            "Umesh\n",
            "<class 'str'>\n"
          ]
        }
      ]
    },
    {
      "cell_type": "code",
      "source": [
        "# Slice Operator\n",
        "name = 'Hi Umesh!'\n",
        "print(name[1])\n",
        "print(name[0:6])\n",
        "print(name[0:8:2])\n"
      ],
      "metadata": {
        "colab": {
          "base_uri": "https://localhost:8080/"
        },
        "id": "NP1IW5qUys0i",
        "outputId": "91643950-de8b-4cf7-96eb-4280f0b16f4a"
      },
      "execution_count": null,
      "outputs": [
        {
          "output_type": "stream",
          "name": "stdout",
          "text": [
            "i\n",
            "Hi Ume\n",
            "H ms\n"
          ]
        }
      ]
    },
    {
      "cell_type": "code",
      "source": [
        "# Concatenation operator \" + \"\n",
        "name = 'Umesh'\n",
        "print('My name is ' + name)"
      ],
      "metadata": {
        "colab": {
          "base_uri": "https://localhost:8080/"
        },
        "id": "rebtqCty0T3v",
        "outputId": "9d22cf15-1f49-4363-dca5-7959f35c738b"
      },
      "execution_count": null,
      "outputs": [
        {
          "output_type": "stream",
          "name": "stdout",
          "text": [
            "My name is Umesh\n"
          ]
        }
      ]
    },
    {
      "cell_type": "code",
      "source": [
        "# Repeatation operator \" * \"\n",
        "name = \"Hello Umesh \"\n",
        "print(name * 3)"
      ],
      "metadata": {
        "colab": {
          "base_uri": "https://localhost:8080/"
        },
        "id": "AtEP2XsO24Or",
        "outputId": "f5da7c38-3ff5-42cd-f8fc-75d27f1d576c"
      },
      "execution_count": null,
      "outputs": [
        {
          "output_type": "stream",
          "name": "stdout",
          "text": [
            "Hello Umesh Hello Umesh Hello Umesh \n"
          ]
        }
      ]
    },
    {
      "cell_type": "markdown",
      "source": [
        "**Operator**\n",
        "\n",
        "---\n",
        "* Artithmetic Operators\n",
        "* Assignment Operators \n",
        "* Comparion/Relational Operator\n",
        "* Logical Operator"
      ],
      "metadata": {
        "id": "pZXcs6nKehis"
      }
    },
    {
      "cell_type": "markdown",
      "source": [
        "**Arithmetic Operators**\n",
        "---\n",
        "Used to perform arithmetic operations\n",
        "\n",
        "* Addition = +\n",
        "* Substraction = -\n",
        "* Multiplication = *\n",
        "* Division = /\n",
        "* Floor Division = //\n",
        "* Remainder = %\n",
        "* Exponential = **"
      ],
      "metadata": {
        "id": "BVe4QL4sfIK7"
      }
    },
    {
      "cell_type": "code",
      "source": [
        "# consider\n",
        "a = 45\n",
        "b = 85\n",
        "a, b"
      ],
      "metadata": {
        "colab": {
          "base_uri": "https://localhost:8080/"
        },
        "id": "QUhA0qacezAN",
        "outputId": "d4f03c12-0834-458e-d518-5c427110f1d4"
      },
      "execution_count": null,
      "outputs": [
        {
          "output_type": "execute_result",
          "data": {
            "text/plain": [
              "(45, 85)"
            ]
          },
          "metadata": {},
          "execution_count": 16
        }
      ]
    },
    {
      "cell_type": "code",
      "source": [
        "# addition\n",
        "a = 45\n",
        "b = 85\n",
        "a + b"
      ],
      "metadata": {
        "colab": {
          "base_uri": "https://localhost:8080/"
        },
        "id": "4YBUyT3OgAz1",
        "outputId": "94137b19-6cc2-430b-c249-accef6f2c6ab"
      },
      "execution_count": null,
      "outputs": [
        {
          "output_type": "execute_result",
          "data": {
            "text/plain": [
              "130"
            ]
          },
          "metadata": {},
          "execution_count": 18
        }
      ]
    },
    {
      "cell_type": "code",
      "source": [
        "# substraction\n",
        "a = 45\n",
        "b = 85\n",
        "b - a"
      ],
      "metadata": {
        "colab": {
          "base_uri": "https://localhost:8080/"
        },
        "id": "42BHcJK-gGnI",
        "outputId": "c92ea262-5f5e-4a22-dbee-80a011b62df2"
      },
      "execution_count": null,
      "outputs": [
        {
          "output_type": "execute_result",
          "data": {
            "text/plain": [
              "40"
            ]
          },
          "metadata": {},
          "execution_count": 21
        }
      ]
    },
    {
      "cell_type": "code",
      "source": [
        "# Multiplication\n",
        "a = 45\n",
        "b = 85\n",
        "a * b"
      ],
      "metadata": {
        "colab": {
          "base_uri": "https://localhost:8080/"
        },
        "id": "c_42Td9dgKDc",
        "outputId": "72ced488-f623-4253-8258-99a22a963101"
      },
      "execution_count": null,
      "outputs": [
        {
          "output_type": "execute_result",
          "data": {
            "text/plain": [
              "3825"
            ]
          },
          "metadata": {},
          "execution_count": 23
        }
      ]
    },
    {
      "cell_type": "code",
      "source": [
        "# Division\n",
        "a = 45\n",
        "b = 85\n",
        "a/b"
      ],
      "metadata": {
        "colab": {
          "base_uri": "https://localhost:8080/"
        },
        "id": "R_ofbJsIgZtW",
        "outputId": "53c5be80-f7b9-4e60-c205-9829b9f18dae"
      },
      "execution_count": null,
      "outputs": [
        {
          "output_type": "execute_result",
          "data": {
            "text/plain": [
              "0.5294117647058824"
            ]
          },
          "metadata": {},
          "execution_count": 24
        }
      ]
    },
    {
      "cell_type": "code",
      "source": [
        "# Floor Division \n",
        "# It omits the decimal part or round up  \n",
        "a = 45\n",
        "b = 85\n",
        "a//b"
      ],
      "metadata": {
        "colab": {
          "base_uri": "https://localhost:8080/"
        },
        "id": "zqOxhOxQgfS-",
        "outputId": "3c195e50-2095-4f8f-ba60-261c78ad87ed"
      },
      "execution_count": null,
      "outputs": [
        {
          "output_type": "execute_result",
          "data": {
            "text/plain": [
              "0"
            ]
          },
          "metadata": {},
          "execution_count": 25
        }
      ]
    },
    {
      "cell_type": "code",
      "source": [
        "# remainder\n",
        "a = 45\n",
        "b = 85\n",
        "a % b"
      ],
      "metadata": {
        "colab": {
          "base_uri": "https://localhost:8080/"
        },
        "id": "rkygSTtYgkMz",
        "outputId": "97144a78-712d-4279-e173-526225df5557"
      },
      "execution_count": null,
      "outputs": [
        {
          "output_type": "execute_result",
          "data": {
            "text/plain": [
              "45"
            ]
          },
          "metadata": {},
          "execution_count": 26
        }
      ]
    },
    {
      "cell_type": "code",
      "source": [
        "# exponential\n",
        "a = 45\n",
        "b = 2\n",
        "a ** b"
      ],
      "metadata": {
        "colab": {
          "base_uri": "https://localhost:8080/"
        },
        "id": "-FP_TWgag3OT",
        "outputId": "a1efd1ee-6d11-441d-d838-d06905cd6e71"
      },
      "execution_count": null,
      "outputs": [
        {
          "output_type": "execute_result",
          "data": {
            "text/plain": [
              "2025"
            ]
          },
          "metadata": {},
          "execution_count": 29
        }
      ]
    },
    {
      "cell_type": "markdown",
      "source": [
        "**Comparison/Relational Operator**\n",
        "\n",
        "---\n",
        "Output of relational operator is boolean i.e. True or False\n",
        "\n",
        "* Equal : ==\n",
        "* Not equal : !=\n",
        "* Greater than : >\n",
        "* Less than : <\n",
        "* Greater than or equal : >=\n",
        "* Less than or equal : <=\n"
      ],
      "metadata": {
        "id": "x1KuyFkdhsuC"
      }
    },
    {
      "cell_type": "code",
      "source": [
        "# Equal : ==\n",
        "a = 12\n",
        "b = 12\n",
        "a == b"
      ],
      "metadata": {
        "colab": {
          "base_uri": "https://localhost:8080/"
        },
        "id": "73LdWXUPhP5L",
        "outputId": "d7d4db07-2f2c-4734-df23-bbe0b05cca2a"
      },
      "execution_count": null,
      "outputs": [
        {
          "output_type": "execute_result",
          "data": {
            "text/plain": [
              "True"
            ]
          },
          "metadata": {},
          "execution_count": 30
        }
      ]
    },
    {
      "cell_type": "code",
      "source": [
        "# Not Equal : !=\n",
        "a = 12\n",
        "b = 12\n",
        "a != b"
      ],
      "metadata": {
        "colab": {
          "base_uri": "https://localhost:8080/"
        },
        "id": "Btc0zFLsjCkS",
        "outputId": "3675707e-1b78-49a1-eab1-b28af5c9455c"
      },
      "execution_count": null,
      "outputs": [
        {
          "output_type": "execute_result",
          "data": {
            "text/plain": [
              "False"
            ]
          },
          "metadata": {},
          "execution_count": 31
        }
      ]
    },
    {
      "cell_type": "code",
      "source": [
        "# Greater : >\n",
        "a = 12\n",
        "b = 13\n",
        "a > b"
      ],
      "metadata": {
        "colab": {
          "base_uri": "https://localhost:8080/"
        },
        "id": "ttME2_AJjKnN",
        "outputId": "1bd3f205-6a1d-4cdb-c190-461e536f7d76"
      },
      "execution_count": null,
      "outputs": [
        {
          "output_type": "execute_result",
          "data": {
            "text/plain": [
              "False"
            ]
          },
          "metadata": {},
          "execution_count": 33
        }
      ]
    },
    {
      "cell_type": "code",
      "source": [
        "# Less : <\n",
        "a = 11\n",
        "b = 12\n",
        "a < b"
      ],
      "metadata": {
        "colab": {
          "base_uri": "https://localhost:8080/"
        },
        "id": "5Sz4OYXijUCj",
        "outputId": "23d15f61-7428-4cb3-fa84-fede99c6ad40"
      },
      "execution_count": null,
      "outputs": [
        {
          "output_type": "execute_result",
          "data": {
            "text/plain": [
              "True"
            ]
          },
          "metadata": {},
          "execution_count": 34
        }
      ]
    },
    {
      "cell_type": "code",
      "source": [
        "# Greater than or equal : >=\n",
        "a = 15\n",
        "b = 13\n",
        "a >= b"
      ],
      "metadata": {
        "colab": {
          "base_uri": "https://localhost:8080/"
        },
        "id": "HUsdSvNvjb-M",
        "outputId": "6db38bde-cb53-4181-a2a1-00028b98b81d"
      },
      "execution_count": null,
      "outputs": [
        {
          "output_type": "execute_result",
          "data": {
            "text/plain": [
              "True"
            ]
          },
          "metadata": {},
          "execution_count": 36
        }
      ]
    },
    {
      "cell_type": "code",
      "source": [
        "# less than or equal : <=\n",
        "a = 15\n",
        "b = 13\n",
        "a <= b"
      ],
      "metadata": {
        "colab": {
          "base_uri": "https://localhost:8080/"
        },
        "id": "l138B2TQjlxd",
        "outputId": "0f393295-2c6d-4efc-f5d7-b5391aedad96"
      },
      "execution_count": null,
      "outputs": [
        {
          "output_type": "execute_result",
          "data": {
            "text/plain": [
              "False"
            ]
          },
          "metadata": {},
          "execution_count": 37
        }
      ]
    },
    {
      "cell_type": "markdown",
      "source": [
        "**Assignment Operator**\n",
        "\n",
        "---\n",
        "* addition a = a + b : a += b\n",
        "\n",
        "* substraction a = a - b : a -= b\n",
        "\n",
        "* multiplication a = a * b : a *= b\n",
        "\n",
        "* division a = a / b : a /= b\n",
        "\n",
        "* floor division  a = a // b : a //= b\n",
        "\n",
        "* remainder a = a % b : a %= b\n",
        "\n",
        "* exponential a = a ** b : a **= b"
      ],
      "metadata": {
        "id": "foLmAeVmj0qK"
      }
    },
    {
      "cell_type": "code",
      "source": [
        "# add\n",
        "a = 4\n",
        "b = 5\n",
        "a += b\n",
        "print(a)"
      ],
      "metadata": {
        "colab": {
          "base_uri": "https://localhost:8080/"
        },
        "id": "Pgsc7uU0juns",
        "outputId": "d09b75d7-10b6-48e4-c1e7-1dafae216584"
      },
      "execution_count": null,
      "outputs": [
        {
          "output_type": "stream",
          "name": "stdout",
          "text": [
            "9\n"
          ]
        }
      ]
    },
    {
      "cell_type": "code",
      "source": [
        "# sub\n",
        "a = 8\n",
        "b = 6\n",
        "a -= b\n",
        "print(a)"
      ],
      "metadata": {
        "colab": {
          "base_uri": "https://localhost:8080/"
        },
        "id": "ewKHIZtjli2U",
        "outputId": "151987c5-9f0d-4d6f-b793-fa29329f1fda"
      },
      "execution_count": null,
      "outputs": [
        {
          "output_type": "stream",
          "name": "stdout",
          "text": [
            "2\n"
          ]
        }
      ]
    },
    {
      "cell_type": "code",
      "source": [
        "# mul\n",
        "a = 8\n",
        "b = 6\n",
        "a *= b\n",
        "print(a)"
      ],
      "metadata": {
        "colab": {
          "base_uri": "https://localhost:8080/"
        },
        "id": "8A0e498IlyOi",
        "outputId": "29600115-5143-4b71-d5c7-3b9400f6ab8e"
      },
      "execution_count": null,
      "outputs": [
        {
          "output_type": "stream",
          "name": "stdout",
          "text": [
            "48\n"
          ]
        }
      ]
    },
    {
      "cell_type": "code",
      "source": [
        "# div\n",
        "a = 8\n",
        "b = 6\n",
        "a /= b\n",
        "print(a)"
      ],
      "metadata": {
        "colab": {
          "base_uri": "https://localhost:8080/"
        },
        "id": "MFNI-CZnl4II",
        "outputId": "82fe4002-cbeb-44ae-ee4d-0220b80d8cad"
      },
      "execution_count": null,
      "outputs": [
        {
          "output_type": "stream",
          "name": "stdout",
          "text": [
            "1.3333333333333333\n"
          ]
        }
      ]
    },
    {
      "cell_type": "code",
      "source": [
        "# floor division\n",
        "a = 8\n",
        "b = 6\n",
        "a //= b\n",
        "print(a)"
      ],
      "metadata": {
        "colab": {
          "base_uri": "https://localhost:8080/"
        },
        "id": "5Sl3rp1Kl8zV",
        "outputId": "0e80d178-a807-480f-dd8c-d9cfff301c86"
      },
      "execution_count": null,
      "outputs": [
        {
          "output_type": "stream",
          "name": "stdout",
          "text": [
            "1\n"
          ]
        }
      ]
    },
    {
      "cell_type": "code",
      "source": [
        "# rem\n",
        "a = 8\n",
        "b = 6\n",
        "a %= b\n",
        "print(a)"
      ],
      "metadata": {
        "colab": {
          "base_uri": "https://localhost:8080/"
        },
        "id": "kZQCyE2NmDXs",
        "outputId": "1985301a-de14-4aca-bdb6-88c5a2ab4938"
      },
      "execution_count": null,
      "outputs": [
        {
          "output_type": "stream",
          "name": "stdout",
          "text": [
            "2\n"
          ]
        }
      ]
    },
    {
      "cell_type": "code",
      "source": [
        "# exponential\n",
        "a = 8\n",
        "b = 2\n",
        "a **= b\n",
        "print(a)"
      ],
      "metadata": {
        "colab": {
          "base_uri": "https://localhost:8080/"
        },
        "id": "vAfsczXfmHzG",
        "outputId": "7cf55770-f085-49e0-adf4-0e0ef66270c9"
      },
      "execution_count": null,
      "outputs": [
        {
          "output_type": "stream",
          "name": "stdout",
          "text": [
            "64\n"
          ]
        }
      ]
    },
    {
      "cell_type": "markdown",
      "source": [
        "**Bitwise Operator**\n",
        "\n",
        "---\n",
        "format is used to Internally converting the values into bitwise \n",
        "eg . format(2, \"b\") => 0010\n",
        "\n",
        "Required if your dealing with machine level application\n",
        "\n",
        "* Binary AND Operator :  &\n",
        "* Binary OR Operator  :  |\n",
        "* Binary XOR Operatoor : ^"
      ],
      "metadata": {
        "id": "MBPfiDkrmU5U"
      }
    },
    {
      "cell_type": "code",
      "source": [
        "# Convert number to binary using format function\n",
        "a = 10\n",
        "b = 5\n",
        "print(format(10, \"b\"))\n",
        "print(format(5, \"b\"))\n"
      ],
      "metadata": {
        "colab": {
          "base_uri": "https://localhost:8080/"
        },
        "id": "9DFehM1ymQyK",
        "outputId": "1b0d6184-82f3-412e-ea88-29be7c0c6840"
      },
      "execution_count": null,
      "outputs": [
        {
          "output_type": "stream",
          "name": "stdout",
          "text": [
            "1010\n",
            "101\n"
          ]
        }
      ]
    },
    {
      "cell_type": "code",
      "source": [
        "# Binary &\n",
        "a = 5\n",
        "print(format(a, \"b\"))\n",
        "b = 4\n",
        "print(format(b, \"b\"))\n",
        "c = a & b\n",
        "print(format(c, \"b\"))\n",
        "print(c)"
      ],
      "metadata": {
        "colab": {
          "base_uri": "https://localhost:8080/"
        },
        "id": "dwc4gOfYn20t",
        "outputId": "af13aa53-d43a-4fbf-9772-5c6f75ce3d39"
      },
      "execution_count": null,
      "outputs": [
        {
          "output_type": "stream",
          "name": "stdout",
          "text": [
            "101\n",
            "100\n",
            "100\n",
            "4\n"
          ]
        }
      ]
    },
    {
      "cell_type": "code",
      "source": [
        "# Binary |\n",
        "a = 5\n",
        "print(format(a, \"b\"))\n",
        "b = 4\n",
        "print(format(b, \"b\"))\n",
        "c = a | b\n",
        "print(format(c, \"b\"))\n",
        "print(c)"
      ],
      "metadata": {
        "colab": {
          "base_uri": "https://localhost:8080/"
        },
        "id": "kf9FyaxdpXPH",
        "outputId": "e18fa47f-b756-43ab-d3a8-22caa91533cb"
      },
      "execution_count": null,
      "outputs": [
        {
          "output_type": "stream",
          "name": "stdout",
          "text": [
            "101\n",
            "100\n",
            "101\n",
            "5\n"
          ]
        }
      ]
    },
    {
      "cell_type": "code",
      "source": [
        "# Binary ^\n",
        "a = 5\n",
        "print(format(a, \"b\"))\n",
        "b = 4\n",
        "print(format(b, \"b\"))\n",
        "c = a ^ b\n",
        "print(format(c, \"b\"))\n",
        "print(c)"
      ],
      "metadata": {
        "colab": {
          "base_uri": "https://localhost:8080/"
        },
        "id": "DpyZB4VipwPU",
        "outputId": "33f73a3a-c2b0-43d6-8f23-caf52b96b29a"
      },
      "execution_count": null,
      "outputs": [
        {
          "output_type": "stream",
          "name": "stdout",
          "text": [
            "101\n",
            "100\n",
            "1\n",
            "1\n"
          ]
        }
      ]
    },
    {
      "cell_type": "markdown",
      "source": [
        "**Logical Operator**\n",
        "\n",
        "---\n",
        "\n",
        "* Logical and operator : and\n",
        "* Logical or operator : or"
      ],
      "metadata": {
        "id": "XPdM9yC8tDh-"
      }
    },
    {
      "cell_type": "code",
      "source": [
        "# Logical and operator\n",
        "a = 3\n",
        "print(format(a, \"b\"))\n",
        "b = 2\n",
        "print(format(b, \"b\"))\n",
        "c = a and b\n",
        "print(format(c, \"b\"))\n",
        "print(c)"
      ],
      "metadata": {
        "colab": {
          "base_uri": "https://localhost:8080/"
        },
        "id": "kMA-N4IGrMCo",
        "outputId": "6cb6a635-442d-41ec-e8a3-25acc4bf4e74"
      },
      "execution_count": null,
      "outputs": [
        {
          "output_type": "stream",
          "name": "stdout",
          "text": [
            "11\n",
            "10\n",
            "10\n",
            "2\n"
          ]
        }
      ]
    },
    {
      "cell_type": "code",
      "source": [
        "# Logical or operator\n",
        "a = 3\n",
        "print(format(a, \"b\"))\n",
        "b = 2\n",
        "print(format(b, \"b\"))\n",
        "c = a or b\n",
        "print(format(c, \"b\"))\n",
        "print(c)"
      ],
      "metadata": {
        "colab": {
          "base_uri": "https://localhost:8080/"
        },
        "id": "YEfpKc3HrrrW",
        "outputId": "52574467-60bf-4f5d-966f-53abfaa0d409"
      },
      "execution_count": null,
      "outputs": [
        {
          "output_type": "stream",
          "name": "stdout",
          "text": [
            "11\n",
            "10\n",
            "11\n",
            "3\n"
          ]
        }
      ]
    },
    {
      "cell_type": "markdown",
      "source": [
        "**Membership Operators**\n",
        "\n",
        "---\n",
        "It will check that left value is a member of right value or not. It will gives boolean ouput i.e. True/False\n",
        "* in operator : The value is present return True otherwise return False\n",
        "* not in operator : The value is not present return True otherwise return False"
      ],
      "metadata": {
        "id": "VM_Jrl4zvC4V"
      }
    },
    {
      "cell_type": "code",
      "source": [
        "# in operator \n",
        "\"y\" in \"Python\""
      ],
      "metadata": {
        "colab": {
          "base_uri": "https://localhost:8080/"
        },
        "id": "_chcQJzXn17D",
        "outputId": "3fb58eee-5c3d-42d6-a426-2bf72bc27cf9"
      },
      "execution_count": null,
      "outputs": [
        {
          "output_type": "execute_result",
          "data": {
            "text/plain": [
              "True"
            ]
          },
          "metadata": {},
          "execution_count": 1
        }
      ]
    },
    {
      "cell_type": "code",
      "source": [
        "# not in operator\n",
        "\"p\" not in \"python\""
      ],
      "metadata": {
        "colab": {
          "base_uri": "https://localhost:8080/"
        },
        "id": "FzVu-1CHoMud",
        "outputId": "30b23b0f-84d7-4942-dbc6-274ebc928ea9"
      },
      "execution_count": null,
      "outputs": [
        {
          "output_type": "execute_result",
          "data": {
            "text/plain": [
              "False"
            ]
          },
          "metadata": {},
          "execution_count": 2
        }
      ]
    },
    {
      "cell_type": "markdown",
      "source": [
        "**Identity Operators**\n",
        "\n",
        "---\n",
        "It will check that left value is equal to the right value or not. It will gives boolean ouput i.e. True/False\n",
        "* is : similar to eqal to\n",
        "* is not : similar to not equal to"
      ],
      "metadata": {
        "id": "3fOvc4p9oyFX"
      }
    },
    {
      "cell_type": "code",
      "source": [
        "# is operator\n",
        "\"y\" is \"python\""
      ],
      "metadata": {
        "colab": {
          "base_uri": "https://localhost:8080/"
        },
        "id": "oEfZusMSogZM",
        "outputId": "d5f71d26-e303-4d80-883f-019d210fe98c"
      },
      "execution_count": null,
      "outputs": [
        {
          "output_type": "stream",
          "name": "stderr",
          "text": [
            "<>:2: SyntaxWarning: \"is\" with a literal. Did you mean \"==\"?\n",
            "<>:2: SyntaxWarning: \"is\" with a literal. Did you mean \"==\"?\n",
            "<ipython-input-3-7515f8cd99ee>:2: SyntaxWarning: \"is\" with a literal. Did you mean \"==\"?\n",
            "  \"y\" is \"python\"\n"
          ]
        },
        {
          "output_type": "execute_result",
          "data": {
            "text/plain": [
              "False"
            ]
          },
          "metadata": {},
          "execution_count": 3
        }
      ]
    },
    {
      "cell_type": "code",
      "source": [
        "# is operator\n",
        "1 is 1"
      ],
      "metadata": {
        "colab": {
          "base_uri": "https://localhost:8080/"
        },
        "id": "-knKBI6IqHHo",
        "outputId": "d8c972f8-2ea5-4260-83d5-494a3b3d001c"
      },
      "execution_count": null,
      "outputs": [
        {
          "output_type": "stream",
          "name": "stderr",
          "text": [
            "<>:2: SyntaxWarning: \"is\" with a literal. Did you mean \"==\"?\n",
            "<>:2: SyntaxWarning: \"is\" with a literal. Did you mean \"==\"?\n",
            "<ipython-input-4-9ae7cf12afd8>:2: SyntaxWarning: \"is\" with a literal. Did you mean \"==\"?\n",
            "  1 is 1\n"
          ]
        },
        {
          "output_type": "execute_result",
          "data": {
            "text/plain": [
              "True"
            ]
          },
          "metadata": {},
          "execution_count": 4
        }
      ]
    },
    {
      "cell_type": "code",
      "source": [
        "# is\n",
        "\"python\" == \"python\""
      ],
      "metadata": {
        "colab": {
          "base_uri": "https://localhost:8080/"
        },
        "id": "-MZRwE1ZR58z",
        "outputId": "88682d90-4440-434c-bcd1-1e95919a6077"
      },
      "execution_count": null,
      "outputs": [
        {
          "output_type": "execute_result",
          "data": {
            "text/plain": [
              "True"
            ]
          },
          "metadata": {},
          "execution_count": 4
        }
      ]
    },
    {
      "cell_type": "code",
      "source": [
        "# is not operator\n",
        "\"y\" is not \"python\""
      ],
      "metadata": {
        "colab": {
          "base_uri": "https://localhost:8080/"
        },
        "id": "JDBUyQIcqRyj",
        "outputId": "c286554d-1489-469a-c782-56c60d7ff821"
      },
      "execution_count": null,
      "outputs": [
        {
          "output_type": "stream",
          "name": "stderr",
          "text": [
            "<>:2: SyntaxWarning: \"is not\" with a literal. Did you mean \"!=\"?\n",
            "<>:2: SyntaxWarning: \"is not\" with a literal. Did you mean \"!=\"?\n",
            "<ipython-input-5-935fee86d4d4>:2: SyntaxWarning: \"is not\" with a literal. Did you mean \"!=\"?\n",
            "  \"y\" is not \"python\"\n"
          ]
        },
        {
          "output_type": "execute_result",
          "data": {
            "text/plain": [
              "True"
            ]
          },
          "metadata": {},
          "execution_count": 5
        }
      ]
    },
    {
      "cell_type": "code",
      "source": [
        "# is not operator\n",
        "1 is 1"
      ],
      "metadata": {
        "id": "Zs1Ped0QqZ3Y",
        "colab": {
          "base_uri": "https://localhost:8080/"
        },
        "outputId": "f9646d8b-75b3-4596-8774-a100b672651f"
      },
      "execution_count": null,
      "outputs": [
        {
          "output_type": "stream",
          "name": "stderr",
          "text": [
            "<>:2: SyntaxWarning: \"is\" with a literal. Did you mean \"==\"?\n",
            "<>:2: SyntaxWarning: \"is\" with a literal. Did you mean \"==\"?\n",
            "<ipython-input-1-c9c59497193a>:2: SyntaxWarning: \"is\" with a literal. Did you mean \"==\"?\n",
            "  1 is 1\n"
          ]
        },
        {
          "output_type": "execute_result",
          "data": {
            "text/plain": [
              "True"
            ]
          },
          "metadata": {},
          "execution_count": 1
        }
      ]
    },
    {
      "cell_type": "code",
      "source": [
        "# is not\n",
        "\"python\" != \"python\""
      ],
      "metadata": {
        "colab": {
          "base_uri": "https://localhost:8080/"
        },
        "id": "cWRBAiB9Ruor",
        "outputId": "e1f066ce-54da-4de6-8843-4e4f886fddd4"
      },
      "execution_count": null,
      "outputs": [
        {
          "output_type": "execute_result",
          "data": {
            "text/plain": [
              "False"
            ]
          },
          "metadata": {},
          "execution_count": 6
        }
      ]
    },
    {
      "cell_type": "markdown",
      "source": [
        "**Data Structure**\n",
        "\n",
        "---\n",
        "* How to deal with data \n",
        "* Data should be in structured format so data type are easily identified.\n",
        "* In python the data is in table format.\n",
        "* In python table representation is called Dataframe\n",
        "* Table is collection of multiple rows and each rows identified by multiple column\n",
        "* Column = field\n",
        "* Array/Vectors\n",
        "* Vector = the data which has magnitude and direction.\n",
        "* Vector is one dimensional array\n",
        "* Vector is a sequntial arrangement of data with index.\n",
        "* Python does not deal with vector and first alternative for this is array\n",
        "* Array is arrangement of data which can have multidimensional data\n",
        "* Array is collection homogeneous data\n",
        "* Vector can be 1 dimensional array but array 1 dimensional array is not always vector. "
      ],
      "metadata": {
        "id": "iWu7TdisRctH"
      }
    },
    {
      "cell_type": "code",
      "source": [
        "# Array/Vectors\n",
        "# array is created in python by importing array module to the python program.\n",
        "from array import *  \n",
        "array1 = array('i', [10,20,30,40,50])\n",
        "for x in array1:\n",
        "  print(x)"
      ],
      "metadata": {
        "colab": {
          "base_uri": "https://localhost:8080/"
        },
        "id": "evy9UsXaIc1O",
        "outputId": "c29325a8-7037-4d1b-dfbd-6fbd64f32d9b"
      },
      "execution_count": null,
      "outputs": [
        {
          "output_type": "stream",
          "name": "stdout",
          "text": [
            "10\n",
            "20\n",
            "30\n",
            "40\n",
            "50\n"
          ]
        }
      ]
    },
    {
      "cell_type": "code",
      "source": [
        "help(array)"
      ],
      "metadata": {
        "colab": {
          "base_uri": "https://localhost:8080/"
        },
        "id": "FP46GQywOZMZ",
        "outputId": "2ec0e2b1-9f00-416b-a842-28c2fddc2aff"
      },
      "execution_count": null,
      "outputs": [
        {
          "output_type": "stream",
          "name": "stdout",
          "text": [
            "Help on class array in module array:\n",
            "\n",
            "class array(builtins.object)\n",
            " |  array(typecode [, initializer]) -> array\n",
            " |  \n",
            " |  Return a new array whose items are restricted by typecode, and\n",
            " |  initialized from the optional initializer value, which must be a list,\n",
            " |  string or iterable over elements of the appropriate type.\n",
            " |  \n",
            " |  Arrays represent basic values and behave very much like lists, except\n",
            " |  the type of objects stored in them is constrained. The type is specified\n",
            " |  at object creation time by using a type code, which is a single character.\n",
            " |  The following type codes are defined:\n",
            " |  \n",
            " |      Type code   C Type             Minimum size in bytes\n",
            " |      'b'         signed integer     1\n",
            " |      'B'         unsigned integer   1\n",
            " |      'u'         Unicode character  2 (see note)\n",
            " |      'h'         signed integer     2\n",
            " |      'H'         unsigned integer   2\n",
            " |      'i'         signed integer     2\n",
            " |      'I'         unsigned integer   2\n",
            " |      'l'         signed integer     4\n",
            " |      'L'         unsigned integer   4\n",
            " |      'q'         signed integer     8 (see note)\n",
            " |      'Q'         unsigned integer   8 (see note)\n",
            " |      'f'         floating point     4\n",
            " |      'd'         floating point     8\n",
            " |  \n",
            " |  NOTE: The 'u' typecode corresponds to Python's unicode character. On\n",
            " |  narrow builds this is 2-bytes on wide builds this is 4-bytes.\n",
            " |  \n",
            " |  NOTE: The 'q' and 'Q' type codes are only available if the platform\n",
            " |  C compiler used to build Python supports 'long long', or, on Windows,\n",
            " |  '__int64'.\n",
            " |  \n",
            " |  Methods:\n",
            " |  \n",
            " |  append() -- append a new item to the end of the array\n",
            " |  buffer_info() -- return information giving the current memory info\n",
            " |  byteswap() -- byteswap all the items of the array\n",
            " |  count() -- return number of occurrences of an object\n",
            " |  extend() -- extend array by appending multiple elements from an iterable\n",
            " |  fromfile() -- read items from a file object\n",
            " |  fromlist() -- append items from the list\n",
            " |  frombytes() -- append items from the string\n",
            " |  index() -- return index of first occurrence of an object\n",
            " |  insert() -- insert a new item into the array at a provided position\n",
            " |  pop() -- remove and return item (default last)\n",
            " |  remove() -- remove first occurrence of an object\n",
            " |  reverse() -- reverse the order of the items in the array\n",
            " |  tofile() -- write all items to a file object\n",
            " |  tolist() -- return the array converted to an ordinary list\n",
            " |  tobytes() -- return the array converted to a string\n",
            " |  \n",
            " |  Attributes:\n",
            " |  \n",
            " |  typecode -- the typecode character used to create the array\n",
            " |  itemsize -- the length in bytes of one array item\n",
            " |  \n",
            " |  Methods defined here:\n",
            " |  \n",
            " |  __add__(self, value, /)\n",
            " |      Return self+value.\n",
            " |  \n",
            " |  __contains__(self, key, /)\n",
            " |      Return key in self.\n",
            " |  \n",
            " |  __copy__(self, /)\n",
            " |      Return a copy of the array.\n",
            " |  \n",
            " |  __deepcopy__(self, unused, /)\n",
            " |      Return a copy of the array.\n",
            " |  \n",
            " |  __delitem__(self, key, /)\n",
            " |      Delete self[key].\n",
            " |  \n",
            " |  __eq__(self, value, /)\n",
            " |      Return self==value.\n",
            " |  \n",
            " |  __ge__(self, value, /)\n",
            " |      Return self>=value.\n",
            " |  \n",
            " |  __getattribute__(self, name, /)\n",
            " |      Return getattr(self, name).\n",
            " |  \n",
            " |  __getitem__(self, key, /)\n",
            " |      Return self[key].\n",
            " |  \n",
            " |  __gt__(self, value, /)\n",
            " |      Return self>value.\n",
            " |  \n",
            " |  __iadd__(self, value, /)\n",
            " |      Implement self+=value.\n",
            " |  \n",
            " |  __imul__(self, value, /)\n",
            " |      Implement self*=value.\n",
            " |  \n",
            " |  __iter__(self, /)\n",
            " |      Implement iter(self).\n",
            " |  \n",
            " |  __le__(self, value, /)\n",
            " |      Return self<=value.\n",
            " |  \n",
            " |  __len__(self, /)\n",
            " |      Return len(self).\n",
            " |  \n",
            " |  __lt__(self, value, /)\n",
            " |      Return self<value.\n",
            " |  \n",
            " |  __mul__(self, value, /)\n",
            " |      Return self*value.\n",
            " |  \n",
            " |  __ne__(self, value, /)\n",
            " |      Return self!=value.\n",
            " |  \n",
            " |  __reduce_ex__(self, value, /)\n",
            " |      Return state information for pickling.\n",
            " |  \n",
            " |  __repr__(self, /)\n",
            " |      Return repr(self).\n",
            " |  \n",
            " |  __rmul__(self, value, /)\n",
            " |      Return value*self.\n",
            " |  \n",
            " |  __setitem__(self, key, value, /)\n",
            " |      Set self[key] to value.\n",
            " |  \n",
            " |  __sizeof__(self, /)\n",
            " |      Size of the array in memory, in bytes.\n",
            " |  \n",
            " |  append(self, v, /)\n",
            " |      Append new value v to the end of the array.\n",
            " |  \n",
            " |  buffer_info(self, /)\n",
            " |      Return a tuple (address, length) giving the current memory address and the length in items of the buffer used to hold array's contents.\n",
            " |      \n",
            " |      The length should be multiplied by the itemsize attribute to calculate\n",
            " |      the buffer length in bytes.\n",
            " |  \n",
            " |  byteswap(self, /)\n",
            " |      Byteswap all items of the array.\n",
            " |      \n",
            " |      If the items in the array are not 1, 2, 4, or 8 bytes in size, RuntimeError is\n",
            " |      raised.\n",
            " |  \n",
            " |  count(self, v, /)\n",
            " |      Return number of occurrences of v in the array.\n",
            " |  \n",
            " |  extend(self, bb, /)\n",
            " |      Append items to the end of the array.\n",
            " |  \n",
            " |  frombytes(self, buffer, /)\n",
            " |      Appends items from the string, interpreting it as an array of machine values, as if it had been read from a file using the fromfile() method).\n",
            " |  \n",
            " |  fromfile(self, f, n, /)\n",
            " |      Read n objects from the file object f and append them to the end of the array.\n",
            " |  \n",
            " |  fromlist(self, list, /)\n",
            " |      Append items to array from list.\n",
            " |  \n",
            " |  fromstring(self, buffer, /)\n",
            " |      Appends items from the string, interpreting it as an array of machine values, as if it had been read from a file using the fromfile() method).\n",
            " |      \n",
            " |      This method is deprecated. Use frombytes instead.\n",
            " |  \n",
            " |  fromunicode(self, ustr, /)\n",
            " |      Extends this array with data from the unicode string ustr.\n",
            " |      \n",
            " |      The array must be a unicode type array; otherwise a ValueError is raised.\n",
            " |      Use array.frombytes(ustr.encode(...)) to append Unicode data to an array of\n",
            " |      some other type.\n",
            " |  \n",
            " |  index(self, v, /)\n",
            " |      Return index of first occurrence of v in the array.\n",
            " |  \n",
            " |  insert(self, i, v, /)\n",
            " |      Insert a new item v into the array before position i.\n",
            " |  \n",
            " |  pop(self, i=-1, /)\n",
            " |      Return the i-th element and delete it from the array.\n",
            " |      \n",
            " |      i defaults to -1.\n",
            " |  \n",
            " |  remove(self, v, /)\n",
            " |      Remove the first occurrence of v in the array.\n",
            " |  \n",
            " |  reverse(self, /)\n",
            " |      Reverse the order of the items in the array.\n",
            " |  \n",
            " |  tobytes(self, /)\n",
            " |      Convert the array to an array of machine values and return the bytes representation.\n",
            " |  \n",
            " |  tofile(self, f, /)\n",
            " |      Write all items (as machine values) to the file object f.\n",
            " |  \n",
            " |  tolist(self, /)\n",
            " |      Convert array to an ordinary list with the same items.\n",
            " |  \n",
            " |  tostring(self, /)\n",
            " |      Convert the array to an array of machine values and return the bytes representation.\n",
            " |      \n",
            " |      This method is deprecated. Use tobytes instead.\n",
            " |  \n",
            " |  tounicode(self, /)\n",
            " |      Extends this array with data from the unicode string ustr.\n",
            " |      \n",
            " |      Convert the array to a unicode string.  The array must be a unicode type array;\n",
            " |      otherwise a ValueError is raised.  Use array.tobytes().decode() to obtain a\n",
            " |      unicode string from an array of some other type.\n",
            " |  \n",
            " |  ----------------------------------------------------------------------\n",
            " |  Static methods defined here:\n",
            " |  \n",
            " |  __new__(*args, **kwargs) from builtins.type\n",
            " |      Create and return a new object.  See help(type) for accurate signature.\n",
            " |  \n",
            " |  ----------------------------------------------------------------------\n",
            " |  Data descriptors defined here:\n",
            " |  \n",
            " |  itemsize\n",
            " |      the size, in bytes, of one array item\n",
            " |  \n",
            " |  typecode\n",
            " |      the typecode character used to create the array\n",
            " |  \n",
            " |  ----------------------------------------------------------------------\n",
            " |  Data and other attributes defined here:\n",
            " |  \n",
            " |  __hash__ = None\n",
            "\n"
          ]
        }
      ]
    },
    {
      "cell_type": "markdown",
      "source": [
        "**Array Methods**\n",
        "\n",
        "---\n",
        "Methods:\n",
        "* append() -- append a new item to the end of the array\n",
        "* buffer_info() -- return information giving the current memory info\n",
        "* byteswap() -- byteswap all the items of the array\n",
        "* count() -- return number of occurrences of an object\n",
        "* extend() -- extend array by appending multiple elements from an iterable\n",
        "*  fromfile() -- read items from a file object\n",
        "*  fromlist() -- append items from the list\n",
        "* frombytes() -- append items from the string\n",
        "*  index() -- return index of first occurrence of an object\n",
        "*  insert() -- insert a new item into the array at a provided position\n",
        "*  pop() -- remove and return item (default last)\n",
        "*  remove() -- remove first occurrence of an object\n",
        "*  reverse() -- reverse the order of the items in the array\n",
        "*  tofile() -- write all items to a file object\n",
        "*  tolist() -- return the array converted to an ordinary list\n",
        "*  tobytes() -- return the array converted to a string\n"
      ],
      "metadata": {
        "id": "RYme3DElSLDP"
      }
    },
    {
      "cell_type": "markdown",
      "source": [
        " *  Type code          C Type        Minimum size in bytes\n",
        " *     'b'         signed integer     1\n",
        " *     'B'         unsigned integer   1\n",
        " *      'u'         Unicode character  2 \n",
        " *       'h'         signed integer     2\n",
        " *       'H'         unsigned integer   2\n",
        " *      'i'         signed integer     2\n",
        " *      'I'         unsigned integer   2\n",
        " *      'l'         signed integer     4\n",
        " *      'L'         unsigned integer   4\n",
        " *      'q'         signed integer     8 \n",
        " *      'Q'         unsigned integer   8 \n",
        " *      'f'         floating point     4\n",
        " *      'd'         floating point     8"
      ],
      "metadata": {
        "id": "yrEHWfJ1TJyN"
      }
    },
    {
      "cell_type": "code",
      "source": [
        "# insert operation\n",
        "from array import *\n",
        "array1 = array('i', [10,20,30,40,50])\n",
        "array1.insert(1,60)    # inserting the data on specified location 1 is the index number and 60 is the data\n",
        "for x in array1:\n",
        "  print(x)"
      ],
      "metadata": {
        "colab": {
          "base_uri": "https://localhost:8080/"
        },
        "id": "cCcpGNwPJvMp",
        "outputId": "7a5e334c-e6a4-4123-e5e5-a7c64c78f2e2"
      },
      "execution_count": null,
      "outputs": [
        {
          "output_type": "stream",
          "name": "stdout",
          "text": [
            "10\n",
            "60\n",
            "20\n",
            "30\n",
            "40\n",
            "50\n"
          ]
        }
      ]
    },
    {
      "cell_type": "code",
      "source": [
        "# buffer info\n",
        "# return information giving the current memory info\n",
        "from array import *\n",
        "array1 = array('i', [10,20,30,40,50])\n",
        "array1.buffer_info() # Gives memory location"
      ],
      "metadata": {
        "colab": {
          "base_uri": "https://localhost:8080/"
        },
        "id": "Q6fUw8tFO6Ei",
        "outputId": "bd2a133a-8ba7-400a-cbed-f6752c85fd86"
      },
      "execution_count": null,
      "outputs": [
        {
          "output_type": "execute_result",
          "data": {
            "text/plain": [
              "(140496794089392, 5)"
            ]
          },
          "metadata": {},
          "execution_count": 13
        }
      ]
    },
    {
      "cell_type": "code",
      "source": [
        "# remove/ Deletion operation\n",
        "from array import *\n",
        "array1 = array('i', [10,20,30,40,50])\n",
        "array1.remove(50)  # Deleting the data\n",
        "for x in array1:\n",
        "  print(x)"
      ],
      "metadata": {
        "colab": {
          "base_uri": "https://localhost:8080/"
        },
        "id": "h1_LiiEKPpkP",
        "outputId": "e57f79ef-4213-446a-b3d1-66a907ba0728"
      },
      "execution_count": null,
      "outputs": [
        {
          "output_type": "stream",
          "name": "stdout",
          "text": [
            "10\n",
            "20\n",
            "30\n",
            "40\n"
          ]
        }
      ]
    },
    {
      "cell_type": "code",
      "source": [
        "# Update operation\n",
        "from array import *\n",
        "array1 = array('i', [10,20,30,40,50]) # i i is integer\n",
        "array1[2] = 100  # Replace data\n",
        "for x in array1:\n",
        "  print(x)"
      ],
      "metadata": {
        "colab": {
          "base_uri": "https://localhost:8080/"
        },
        "id": "VIjRTrRsP3RG",
        "outputId": "22f7288c-09f5-45d7-c898-a421a321567e"
      },
      "execution_count": null,
      "outputs": [
        {
          "output_type": "stream",
          "name": "stdout",
          "text": [
            "10\n",
            "20\n",
            "100\n",
            "40\n",
            "50\n"
          ]
        }
      ]
    },
    {
      "cell_type": "markdown",
      "source": [
        "**2 Dimensional Array**\n",
        "\n",
        "---\n",
        "* Accessing values in a two dimensional array\n",
        "* The data elements in two dimensional arrays can be accessed using indices.\n",
        "* One index refering to the main or parent array and another index reffering to the position of the data element in the inner array.\n",
        "* If we mention only one index then the entire inner array is printed for that index position."
      ],
      "metadata": {
        "id": "LTMl42s5RLZc"
      }
    },
    {
      "cell_type": "code",
      "source": [
        "from array import *\n",
        "T = [[1,2,3], [4,5,6], [7,8,9], [10,11,12]]   # 2D Array\n",
        "print(T[0])    \n",
        "print(T[1])\n",
        "print(T[2])\n",
        "print(T[3])\n"
      ],
      "metadata": {
        "colab": {
          "base_uri": "https://localhost:8080/"
        },
        "id": "Ra739JYvVL0U",
        "outputId": "9daf8718-b0a4-4def-9c19-19dd0996c7a7"
      },
      "execution_count": null,
      "outputs": [
        {
          "output_type": "stream",
          "name": "stdout",
          "text": [
            "[1, 2, 3]\n",
            "[4, 5, 6]\n",
            "[7, 8, 9]\n",
            "[10, 11, 12]\n"
          ]
        }
      ]
    },
    {
      "cell_type": "code",
      "source": [
        "from array import *\n",
        "T = [[1,2,3], [4,5,6], [7,8,9], [10,11,12]]   # 2D Array\n",
        "print(T[0][1])     # Access the individual value \n",
        "print(T[1][1])\n",
        "print(T[2][1])\n",
        "print(T[3][1])"
      ],
      "metadata": {
        "colab": {
          "base_uri": "https://localhost:8080/"
        },
        "id": "SUkb6WYRkn2j",
        "outputId": "c5c72b63-a9c4-455a-d305-b4ea9537be19"
      },
      "execution_count": null,
      "outputs": [
        {
          "output_type": "stream",
          "name": "stdout",
          "text": [
            "2\n",
            "5\n",
            "8\n",
            "11\n"
          ]
        }
      ]
    },
    {
      "cell_type": "code",
      "source": [
        "# Inserting 2D array\n",
        "from array import *\n",
        "T = [[1,2,3], [4,5,6], [7,8,9], [10,11,12]]   # 2D Array\n",
        "T.insert(2, [1,1,1]) # inserting at index 2\n",
        "T\n"
      ],
      "metadata": {
        "colab": {
          "base_uri": "https://localhost:8080/"
        },
        "id": "S_O-O4eOSGmM",
        "outputId": "0c5af80a-95df-4694-9a6d-8a459d892395"
      },
      "execution_count": null,
      "outputs": [
        {
          "output_type": "execute_result",
          "data": {
            "text/plain": [
              "[[1, 2, 3], [4, 5, 6], [1, 1, 1], [7, 8, 9], [10, 11, 12]]"
            ]
          },
          "metadata": {},
          "execution_count": 3
        }
      ]
    },
    {
      "cell_type": "code",
      "source": [
        "# Update 2D array\n",
        "from array import *\n",
        "T = [[1,2,3], [4,5,6], [7,8,9], [10,11,12]]   # 2D Array\n",
        "print(\"Previous 2D array =\", T)\n",
        "T[2] = [2,2,2]      # Replace the value at index 2\n",
        "print(\"2D array after updating =\", T )\n"
      ],
      "metadata": {
        "colab": {
          "base_uri": "https://localhost:8080/"
        },
        "id": "ImHjjTigTcad",
        "outputId": "58a37bc8-7d1a-4838-90fa-429ce304b263"
      },
      "execution_count": null,
      "outputs": [
        {
          "output_type": "stream",
          "name": "stdout",
          "text": [
            "Previous 2D array = [[1, 2, 3], [4, 5, 6], [7, 8, 9], [10, 11, 12]]\n",
            "2D array after updating = [[1, 2, 3], [4, 5, 6], [2, 2, 2], [10, 11, 12]]\n"
          ]
        }
      ]
    },
    {
      "cell_type": "code",
      "source": [
        "# Update 2D array individual element\n",
        "from array import *\n",
        "T = [[1,2,3], [4,5,6], [7,8,9], [10,11,12]]   # 2D Array\n",
        "print(\"Previous 2D array = \", T)\n",
        "T[2][1] = 111        # Replace the value at index(2,1)\n",
        "print(\"2D array after updating= \", T)\n"
      ],
      "metadata": {
        "colab": {
          "base_uri": "https://localhost:8080/"
        },
        "id": "iMP4WVf7TrYF",
        "outputId": "0398520b-19d1-4906-9dd6-c0a248a9f564"
      },
      "execution_count": null,
      "outputs": [
        {
          "output_type": "stream",
          "name": "stdout",
          "text": [
            "Previous 2D array =  [[1, 2, 3], [4, 5, 6], [7, 8, 9], [10, 11, 12]]\n",
            "2D array after updating=  [[1, 2, 3], [4, 5, 6], [7, 111, 9], [10, 11, 12]]\n"
          ]
        }
      ]
    },
    {
      "cell_type": "code",
      "source": [
        "# Remove/ Delete\n",
        "from array import *\n",
        "T = [[1,2,3], [4,5,6], [7,8,9], [10,11,12]]   # 2D Array\n",
        "print(\"Previous 2D array = \", T)\n",
        "del T[1]        # Delete\n",
        "print(\"2D array after updating= \", T)\n"
      ],
      "metadata": {
        "colab": {
          "base_uri": "https://localhost:8080/"
        },
        "id": "gcNQ4rW8UK9l",
        "outputId": "ee50b977-9efa-4775-903e-c9b5188f51b9"
      },
      "execution_count": null,
      "outputs": [
        {
          "output_type": "stream",
          "name": "stdout",
          "text": [
            "Previous 2D array =  [[1, 2, 3], [4, 5, 6], [7, 8, 9], [10, 11, 12]]\n",
            "2D array after updating=  [[1, 2, 3], [7, 8, 9], [10, 11, 12]]\n"
          ]
        }
      ]
    },
    {
      "cell_type": "markdown",
      "source": [
        "**Matrix**\n",
        "\n",
        "---\n",
        "* Matrix have 6 dimension\n",
        "* Matrix is a special case of 2 dimensional array where each data element is of strictly as of same size.\n",
        "* So every matrix is also a two dimensional array but not vice versa.\n",
        "* Matrices are very important data structures for many mathematical and scientific calculations.\n",
        "\n"
      ],
      "metadata": {
        "id": "r96RersbbS63"
      }
    },
    {
      "cell_type": "code",
      "source": [
        "# Matrix \n",
        "from numpy import *\n",
        "a = array([[\"Mon\", 1, 2 ,3,4], [\"Tue\", 5, 6 ,3, 4],\n",
        "           [\"Wed\", 8, 9 ,3,4], [\"Thu\", 7, 6 ,2, 4],\n",
        "           [\"Fri\", 4, 2 ,3,4], [\"Sat\", 5, 2 ,9, 4],\n",
        "           [\"Sun\", 10, 12 ,3,4]])\n",
        "print(a)\n",
        "m1 = reshape(a, (7,5))\n",
        "print(m1)\n",
        "print(type(m1))"
      ],
      "metadata": {
        "colab": {
          "base_uri": "https://localhost:8080/"
        },
        "id": "URPT6WubbQC_",
        "outputId": "e48a829e-3565-40a1-cac0-e53c821fb1b1"
      },
      "execution_count": null,
      "outputs": [
        {
          "output_type": "stream",
          "name": "stdout",
          "text": [
            "[['Mon' '1' '2' '3' '4']\n",
            " ['Tue' '5' '6' '3' '4']\n",
            " ['Wed' '8' '9' '3' '4']\n",
            " ['Thu' '7' '6' '2' '4']\n",
            " ['Fri' '4' '2' '3' '4']\n",
            " ['Sat' '5' '2' '9' '4']\n",
            " ['Sun' '10' '12' '3' '4']]\n",
            "[['Mon' '1' '2' '3' '4']\n",
            " ['Tue' '5' '6' '3' '4']\n",
            " ['Wed' '8' '9' '3' '4']\n",
            " ['Thu' '7' '6' '2' '4']\n",
            " ['Fri' '4' '2' '3' '4']\n",
            " ['Sat' '5' '2' '9' '4']\n",
            " ['Sun' '10' '12' '3' '4']]\n",
            "<class 'numpy.ndarray'>\n"
          ]
        }
      ]
    },
    {
      "cell_type": "code",
      "source": [
        "# Accessing values in matrix\n",
        "from numpy import *\n",
        "a = array([[\"Mon\", 1, 2 ,3,4], [\"Tue\", 5, 6 ,3, 4],\n",
        "           [\"Wed\", 8, 9 ,3,4], [\"Thu\", 7, 6 ,2, 4],\n",
        "           [\"Fri\", 4, 2 ,3,4], [\"Sat\", 5, 2 ,9, 4],\n",
        "           [\"Sun\", 10, 12 ,3,4]])\n",
        "m1 = reshape(a, (7,5))\n",
        "print(m1[1])  # print data for wednesday\n",
        "\n",
        "print(m1[4][3]) # print data for friday evening\n"
      ],
      "metadata": {
        "id": "s-M9Z_dkvrXQ",
        "colab": {
          "base_uri": "https://localhost:8080/"
        },
        "outputId": "b184f19f-21dc-42b4-bc34-17e23fd197f1"
      },
      "execution_count": null,
      "outputs": [
        {
          "output_type": "stream",
          "name": "stdout",
          "text": [
            "['Tue' '5' '6' '3' '4']\n",
            "3\n"
          ]
        }
      ]
    },
    {
      "cell_type": "code",
      "source": [
        "# Adding the data\n",
        "from numpy import *\n",
        "a = array([[\"Mon\", 1, 2 ,3,4], [\"Tue\", 5, 6 ,3, 4],\n",
        "           [\"Wed\", 8, 9 ,3,4], [\"Thu\", 7, 6 ,2, 4],\n",
        "           [\"Fri\", 4, 2 ,3,4], [\"Sat\", 5, 2 ,9, 4],\n",
        "           [\"Sun\", 10, 12 ,3,4]])\n",
        "m1 = reshape(a, (7,5))\n",
        "print(m1)\n",
        "print(\"********************************\")\n",
        "# adding row at th end\n",
        "m1_r = append(m1, [[\"Avg\", 10, 10, 10, 10]], 0)  # adding by using append at the end (0 for row)\n",
        "print(m1_r)\n",
        "print(\"********************************\")\n",
        "# insert column at the index position 3 \n",
        "m1_c = insert(m1,[3], [[20],[20],[20],[20],[20],[20],[20]], 1)  # adding by using insert at required location (1 for column)\n",
        "print(m1_c)\n"
      ],
      "metadata": {
        "colab": {
          "base_uri": "https://localhost:8080/"
        },
        "id": "1vAWEfWCu8zE",
        "outputId": "9192762a-9ee2-4ee4-ca05-181323b4ee30"
      },
      "execution_count": null,
      "outputs": [
        {
          "output_type": "stream",
          "name": "stdout",
          "text": [
            "[['Mon' '1' '2' '3' '4']\n",
            " ['Tue' '5' '6' '3' '4']\n",
            " ['Wed' '8' '9' '3' '4']\n",
            " ['Thu' '7' '6' '2' '4']\n",
            " ['Fri' '4' '2' '3' '4']\n",
            " ['Sat' '5' '2' '9' '4']\n",
            " ['Sun' '10' '12' '3' '4']]\n",
            "********************************\n",
            "[['Mon' '1' '2' '3' '4']\n",
            " ['Tue' '5' '6' '3' '4']\n",
            " ['Wed' '8' '9' '3' '4']\n",
            " ['Thu' '7' '6' '2' '4']\n",
            " ['Fri' '4' '2' '3' '4']\n",
            " ['Sat' '5' '2' '9' '4']\n",
            " ['Sun' '10' '12' '3' '4']\n",
            " ['Avg' '10' '10' '10' '10']]\n",
            "********************************\n",
            "[['Mon' '1' '2' '20' '3' '4']\n",
            " ['Tue' '5' '6' '20' '3' '4']\n",
            " ['Wed' '8' '9' '20' '3' '4']\n",
            " ['Thu' '7' '6' '20' '2' '4']\n",
            " ['Fri' '4' '2' '20' '3' '4']\n",
            " ['Sat' '5' '2' '20' '9' '4']\n",
            " ['Sun' '10' '12' '20' '3' '4']]\n"
          ]
        }
      ]
    },
    {
      "cell_type": "code",
      "source": [
        "# Delete the row data\n",
        "from numpy import *\n",
        "m1 = array([[\"Mon\", 1, 2 ,3,4], [\"Tue\", 5, 6 ,3, 4],\n",
        "           [\"Wed\", 8, 9 ,3,4], [\"Thu\", 7, 6 ,2, 4],\n",
        "           [\"Fri\", 4, 2 ,3,4], [\"Sat\", 5, 2 ,9, 4],\n",
        "           [\"Sun\", 10, 12 ,3,4]])\n",
        "m2 = delete(m1,[2],0)  # delete the row at the index position 2\n",
        "print(m1)\n",
        "print(\"*********************\")\n",
        "print(m2)\n"
      ],
      "metadata": {
        "colab": {
          "base_uri": "https://localhost:8080/"
        },
        "id": "S8gzrLD5xwZw",
        "outputId": "fb6c4f14-0095-41fd-c102-a99bdb6c9eb9"
      },
      "execution_count": null,
      "outputs": [
        {
          "output_type": "stream",
          "name": "stdout",
          "text": [
            "[['Mon' '1' '2' '3' '4']\n",
            " ['Tue' '5' '6' '3' '4']\n",
            " ['Wed' '8' '9' '3' '4']\n",
            " ['Thu' '7' '6' '2' '4']\n",
            " ['Fri' '4' '2' '3' '4']\n",
            " ['Sat' '5' '2' '9' '4']\n",
            " ['Sun' '10' '12' '3' '4']]\n",
            "*********************\n",
            "[['Mon' '1' '2' '3' '4']\n",
            " ['Tue' '5' '6' '3' '4']\n",
            " ['Thu' '7' '6' '2' '4']\n",
            " ['Fri' '4' '2' '3' '4']\n",
            " ['Sat' '5' '2' '9' '4']\n",
            " ['Sun' '10' '12' '3' '4']]\n"
          ]
        }
      ]
    },
    {
      "cell_type": "code",
      "source": [
        "# Delete the column data\n",
        "from numpy import *\n",
        "m1 = array([[\"Mon\", 1, 2 ,3,4], [\"Tue\", 5, 6 ,3, 4],\n",
        "           [\"Wed\", 8, 9 ,3,4], [\"Thu\", 7, 6 ,2, 4],\n",
        "           [\"Fri\", 4, 2 ,3,4], [\"Sat\", 5, 2 ,9, 4],\n",
        "           [\"Sun\", 10, 12 ,3,4]])\n",
        "m2 = delete(m1,[2],1)  # delete the column at the index position 2\n",
        "print(m1)\n",
        "print(\"*********************\")\n",
        "print(m2)\n"
      ],
      "metadata": {
        "colab": {
          "base_uri": "https://localhost:8080/"
        },
        "id": "qXa0IxtW0we0",
        "outputId": "53146c1d-cc52-44da-aa2e-038d66b2f7b3"
      },
      "execution_count": null,
      "outputs": [
        {
          "output_type": "stream",
          "name": "stdout",
          "text": [
            "[['Mon' '1' '2' '3' '4']\n",
            " ['Tue' '5' '6' '3' '4']\n",
            " ['Wed' '8' '9' '3' '4']\n",
            " ['Thu' '7' '6' '2' '4']\n",
            " ['Fri' '4' '2' '3' '4']\n",
            " ['Sat' '5' '2' '9' '4']\n",
            " ['Sun' '10' '12' '3' '4']]\n",
            "*********************\n",
            "[['Mon' '1' '3' '4']\n",
            " ['Tue' '5' '3' '4']\n",
            " ['Wed' '8' '3' '4']\n",
            " ['Thu' '7' '2' '4']\n",
            " ['Fri' '4' '3' '4']\n",
            " ['Sat' '5' '9' '4']\n",
            " ['Sun' '10' '3' '4']]\n"
          ]
        }
      ]
    },
    {
      "cell_type": "markdown",
      "source": [
        "**Data Types**\n",
        "\n",
        "---\n",
        "* List\n",
        "* Tuple\n",
        "* Set\n",
        "* Dictionary\n",
        "\n",
        "We can perform operation on above data types such as mutable, immutable, indexed and duplication \n"
      ],
      "metadata": {
        "id": "8lF6BvC11xjQ"
      }
    },
    {
      "cell_type": "markdown",
      "source": [
        "**List**\n",
        "\n",
        "---\n",
        "* List is nothing but sequence of data.\n",
        "* List is mutable data type i.e. we can update or modify or change or alter the value of list.\n",
        "* List is sequential arrangement.\n",
        "* Lists are indexed and duplication allowed\n",
        "* Different data types allowed\n",
        "* List is given in brackets and elements are separated by comma.\n",
        "\n"
      ],
      "metadata": {
        "id": "jmRG63dK6gl8"
      }
    },
    {
      "cell_type": "code",
      "source": [
        "# List\n",
        "list1 = [20, 2022, 20.20, 'Umesh', 'Python']\n",
        "print(list1)"
      ],
      "metadata": {
        "colab": {
          "base_uri": "https://localhost:8080/"
        },
        "id": "m4WCHeHe1ww_",
        "outputId": "ac54bb8d-5242-4baf-a064-8180c6fa3212"
      },
      "execution_count": null,
      "outputs": [
        {
          "output_type": "stream",
          "name": "stdout",
          "text": [
            "[20, 2022, 20.2, 'Umesh', 'Python']\n"
          ]
        }
      ]
    },
    {
      "cell_type": "code",
      "source": [
        "# Access list items\n",
        "list1 = [20, 2022, 20.20, 'Umesh', 'Python']\n",
        "print(list1)\n",
        "print(\"******************************\")\n",
        "print(list1[2])"
      ],
      "metadata": {
        "colab": {
          "base_uri": "https://localhost:8080/"
        },
        "id": "0i7SOtId09er",
        "outputId": "9c748d6c-b2dd-4a86-d170-8080f6b6eb6f"
      },
      "execution_count": null,
      "outputs": [
        {
          "output_type": "stream",
          "name": "stdout",
          "text": [
            "[20, 2022, 20.2, 'Umesh', 'Python']\n",
            "******************************\n",
            "20.2\n"
          ]
        }
      ]
    },
    {
      "cell_type": "code",
      "source": [
        "# Access list items using colon (:)\n",
        "# : means sequential arrangement of data\n",
        "\n",
        "list1 = [20, 2022, 20.20, 'Umesh', 'Python']\n",
        "print(\"List\", list1)\n",
        "print(\"**************\")\n",
        "print(\"list1[lower limit : Upper limit (n-1)\", list1[1:4]) # n = number of samples"
      ],
      "metadata": {
        "colab": {
          "base_uri": "https://localhost:8080/"
        },
        "id": "fiECEK4u_gr1",
        "outputId": "cf19d9a3-aace-4ed8-8cbf-f268f1bd0569"
      },
      "execution_count": null,
      "outputs": [
        {
          "output_type": "stream",
          "name": "stdout",
          "text": [
            "List [20, 2022, 20.2, 'Umesh', 'Python']\n",
            "**************\n",
            "list1[lower limit : Upper limit (n-1) [2022, 20.2, 'Umesh']\n"
          ]
        }
      ]
    },
    {
      "cell_type": "code",
      "source": [
        "# Accessing elements using indices\n",
        "# [ :n] = if you are not specifying lower limit value it assumes lower index value is zero\n",
        "list1 = [20, 2022, 20.20, 'Umesh', 'Python']\n",
        "print(\"List=\", list1)\n",
        "print(\"******************\")\n",
        "print(\"list1[ : 3]=\", list1[ : 3])\n"
      ],
      "metadata": {
        "colab": {
          "base_uri": "https://localhost:8080/"
        },
        "id": "Ow5NovjGAi9J",
        "outputId": "cd3da29e-c537-4947-ec8b-427c71759921"
      },
      "execution_count": null,
      "outputs": [
        {
          "output_type": "stream",
          "name": "stdout",
          "text": [
            "List= [20, 2022, 20.2, 'Umesh', 'Python']\n",
            "******************\n",
            "list1[ : 3]= [20, 2022, 20.2]\n"
          ]
        }
      ]
    },
    {
      "cell_type": "code",
      "source": [
        "# Accessing elements using indices\n",
        "# [0: ] = if you are not specifying upper limit value it assumes upper value is maximum index value\n",
        "list1 = [20, 2022, 20.20, 'Umesh', 'Python']\n",
        "print(\"List=\", list1)\n",
        "print(\"******************\")\n",
        "print(\"list1[0: ]=\", list1[0: ])\n",
        "print(\"******************\")\n",
        "print(\"list1[3: ]=\", list1[3: ])\n"
      ],
      "metadata": {
        "colab": {
          "base_uri": "https://localhost:8080/"
        },
        "id": "bBWUvdPZCJyZ",
        "outputId": "27bae6e5-75bc-4b6f-8593-8ee3f4229a5a"
      },
      "execution_count": null,
      "outputs": [
        {
          "output_type": "stream",
          "name": "stdout",
          "text": [
            "List= [20, 2022, 20.2, 'Umesh', 'Python']\n",
            "******************\n",
            "list1[0: ]= [20, 2022, 20.2, 'Umesh', 'Python']\n",
            "******************\n",
            "list1[3: ]= ['Umesh', 'Python']\n"
          ]
        }
      ]
    },
    {
      "cell_type": "code",
      "source": [
        "# Functions in list data type\n",
        "# Append : add value at the end\n",
        "list1 = [20, 2022, 20.20, 'Umesh', 'Python']\n",
        "print(\"List=\", list1)\n",
        "print(\"******************\")\n",
        "list1.append('Vansh')\n",
        "print(\"List=\", list1)"
      ],
      "metadata": {
        "colab": {
          "base_uri": "https://localhost:8080/"
        },
        "id": "lp7NqyF7DE7Z",
        "outputId": "ee5ec311-9f9f-4095-aab1-e1b8f8124df4"
      },
      "execution_count": null,
      "outputs": [
        {
          "output_type": "stream",
          "name": "stdout",
          "text": [
            "List= [20, 2022, 20.2, 'Umesh', 'Python']\n",
            "******************\n",
            "List= [20, 2022, 20.2, 'Umesh', 'Python', 'Vansh']\n"
          ]
        }
      ]
    },
    {
      "cell_type": "code",
      "source": [
        "# append \n",
        "list1 = [ 10, 2.3, \"Python\", 25]\n",
        "print(list1)\n",
        "print(\" \")\n",
        "list2 = [ 50, 62.3, \"Python\", 20]\n",
        "print(list2)\n",
        "print(\" \")\n",
        "list1.append(list2)  # append adds the list2 as object to list1\n",
        "print(list1)"
      ],
      "metadata": {
        "colab": {
          "base_uri": "https://localhost:8080/"
        },
        "id": "4GQuwd8rSfHZ",
        "outputId": "221ed2cb-445a-409d-ce0b-71955320478d"
      },
      "execution_count": 6,
      "outputs": [
        {
          "output_type": "stream",
          "name": "stdout",
          "text": [
            "[10, 2.3, 'Python', 25]\n",
            " \n",
            "[50, 62.3, 'Python', 20]\n",
            " \n",
            "[10, 2.3, 'Python', 25, [50, 62.3, 'Python', 20]]\n"
          ]
        }
      ]
    },
    {
      "cell_type": "code",
      "source": [
        "# Functions in list data type\n",
        "# Pop : pop will remove last value or most recently added element LIFO\n",
        "list1 = [20, 2022, 20.20, 'Umesh', 'Python']\n",
        "print(\"List=\", list1)\n",
        "print(\"******************\")\n",
        "list1 = [20, 2022, 20.20, 'Umesh', 'Python']\n",
        "print(\"List=\", list1)\n",
        "a = list1.pop(0) \n",
        "print(\"list1.pop(0)=\", a)       # remove 20\n",
        "print(\"List=\", list1)\n",
        "print(\"******************\")\n",
        "list1 = [20, 2022, 20.20, 'Umesh', 'Python']\n",
        "print(\"List=\", list1)\n",
        "b = list1.pop()               # remove last element added i.e. python\n",
        "print(\"list1.pop()=\", b)\n",
        "print(\"List=\", list1)\n",
        "print(\"******************\")\n",
        "list1 = [20, 2022, 20.20, 'Umesh', 'Python']\n",
        "print(\"List=\", list1)\n",
        "c = list1.pop(2)\n",
        "print(\"list1.pop(2)=\", c)     # remove 20.20\n",
        "print(\"List=\", list1)"
      ],
      "metadata": {
        "colab": {
          "base_uri": "https://localhost:8080/"
        },
        "id": "3umbYRJMEQFH",
        "outputId": "1562f39a-6933-4899-9c3c-bb4972557f24"
      },
      "execution_count": 3,
      "outputs": [
        {
          "output_type": "stream",
          "name": "stdout",
          "text": [
            "List= [20, 2022, 20.2, 'Umesh', 'Python']\n",
            "******************\n",
            "List= [20, 2022, 20.2, 'Umesh', 'Python']\n",
            "list1.pop(0)= 20\n",
            "List= [2022, 20.2, 'Umesh', 'Python']\n",
            "******************\n",
            "List= [20, 2022, 20.2, 'Umesh', 'Python']\n",
            "list1.pop()= Python\n",
            "List= [20, 2022, 20.2, 'Umesh']\n",
            "******************\n",
            "List= [20, 2022, 20.2, 'Umesh', 'Python']\n",
            "list1.pop(2)= 20.2\n",
            "List= [20, 2022, 'Umesh', 'Python']\n"
          ]
        }
      ]
    },
    {
      "cell_type": "code",
      "source": [
        "# Insert function\n",
        "# list1.insert(index nmber, object)\n",
        "# add \"Vansh\" at index 2\n",
        "list1 = [20, 2022, 20.20, 'Umesh', 'Python']\n",
        "print(\"List=\", list1)\n",
        "list1.insert(2, \"Vansh\")\n",
        "print(\"**********************\")\n",
        "print(\"List=\", list1)\n"
      ],
      "metadata": {
        "colab": {
          "base_uri": "https://localhost:8080/"
        },
        "id": "jyjjYAh7QwnB",
        "outputId": "623866e0-fa8b-4163-a3eb-ae5854fc3f6f"
      },
      "execution_count": 5,
      "outputs": [
        {
          "output_type": "stream",
          "name": "stdout",
          "text": [
            "List= [20, 2022, 20.2, 'Umesh', 'Python']\n",
            "**********************\n",
            "List= [20, 2022, 'Vansh', 20.2, 'Umesh', 'Python']\n"
          ]
        }
      ]
    },
    {
      "cell_type": "code",
      "source": [
        "# extend funcion\n",
        "list1 = [ 10, 2.3, \"Python\", 25]\n",
        "print(list1)\n",
        "print(\" \")\n",
        "list2 = [ 50, 62.3, \"Python\", 20]\n",
        "print(list2)\n",
        "print(\" \")\n",
        "# extend function add the element of list2 to list11\n",
        "list1.extend(list2)    \n",
        "print(list1)"
      ],
      "metadata": {
        "colab": {
          "base_uri": "https://localhost:8080/"
        },
        "id": "CaCFB0rBSLNN",
        "outputId": "e52ea20e-9902-46cd-bf96-6d267690730b"
      },
      "execution_count": 9,
      "outputs": [
        {
          "output_type": "stream",
          "name": "stdout",
          "text": [
            "[10, 2.3, 'Python', 25]\n",
            " \n",
            "[50, 62.3, 'Python', 20]\n",
            " \n",
            "[10, 2.3, 'Python', 25, 50, 62.3, 'Python', 20]\n"
          ]
        }
      ]
    },
    {
      "cell_type": "code",
      "source": [
        "# Reverse function\n",
        "list1 = [1, 2, 3, 4, 5, 6]\n",
        "print(\"Before the reverse:\", list1)\n",
        "list1.reverse()\n",
        "print(\" \")\n",
        "print(\"After the reverse:\", list1)"
      ],
      "metadata": {
        "colab": {
          "base_uri": "https://localhost:8080/"
        },
        "id": "SWwuc7VDUYxt",
        "outputId": "78ccf2b2-1b48-4142-aa52-53c0cda5ec4e"
      },
      "execution_count": 12,
      "outputs": [
        {
          "output_type": "stream",
          "name": "stdout",
          "text": [
            "Before the reverse: [1, 2, 3, 4, 5, 6]\n",
            " \n",
            "After the reverse: [6, 5, 4, 3, 2, 1]\n"
          ]
        }
      ]
    },
    {
      "cell_type": "code",
      "source": [
        "# Sort function\n",
        "# Arranging values in certain order i.e. ascending or descending \n",
        "# Sort function needs similar data type of each element\n",
        "# Sort function will not work for multiple data types\n",
        "\n",
        "l1 = [ 12,85,14,94,23]\n",
        "print(l1)\n",
        "l1.sort()  # Ascending order\n",
        "print(\" \")\n",
        "print(\"Ascending order:\", l1)\n",
        "\n",
        "l1.sort(reverse=True)  # Descending order\n",
        "print(\" \")\n",
        "print(\"Descending order:\", l1)"
      ],
      "metadata": {
        "colab": {
          "base_uri": "https://localhost:8080/"
        },
        "id": "d8ohFAYjVP6m",
        "outputId": "92e59785-99d8-4348-a85f-9dbb1b248ee4"
      },
      "execution_count": 17,
      "outputs": [
        {
          "output_type": "stream",
          "name": "stdout",
          "text": [
            "[12, 85, 14, 94, 23]\n",
            " \n",
            "Ascending order: [12, 14, 23, 85, 94]\n",
            " \n",
            "Descending order: [94, 85, 23, 14, 12]\n"
          ]
        }
      ]
    },
    {
      "cell_type": "code",
      "source": [
        "# sort functon\n",
        "l1 = [\"a\", \"f\", \"p\", \"d\", \"g\", \"w\", \"v\", \"s\", \"t\"]\n",
        "print(l1)\n",
        "l1.sort()  # Ascending order\n",
        "print(\" \")\n",
        "print(\"Ascending order:\", l1)\n",
        "\n",
        "l1.sort(reverse=True)  # Descending order\n",
        "print(\" \")\n",
        "print(\"Descending order:\", l1)"
      ],
      "metadata": {
        "colab": {
          "base_uri": "https://localhost:8080/"
        },
        "id": "m2IQG1DhWrBp",
        "outputId": "c8f9ab17-f48c-4265-ca4e-62eab48ecf50"
      },
      "execution_count": 19,
      "outputs": [
        {
          "output_type": "stream",
          "name": "stdout",
          "text": [
            "['a', 'f', 'p', 'd', 'g', 'w', 'v', 's', 't']\n",
            " \n",
            "Ascending order: ['a', 'd', 'f', 'g', 'p', 's', 't', 'v', 'w']\n",
            " \n",
            "Descending order: ['w', 'v', 't', 's', 'p', 'g', 'f', 'd', 'a']\n"
          ]
        }
      ]
    },
    {
      "cell_type": "code",
      "source": [
        "# Count function\n",
        "l1 = ['a', 'a', 'x', 'b', 'x', 'x', 's', 'd', 'k', 'd'] \n",
        "print(l1)\n",
        "print(\"x is repeated\", l1.count('x'), \"times\") # count element"
      ],
      "metadata": {
        "colab": {
          "base_uri": "https://localhost:8080/"
        },
        "id": "li7lLuUKXt94",
        "outputId": "77881469-dc7e-480b-ab8f-d7ba4f7e3c7a"
      },
      "execution_count": 28,
      "outputs": [
        {
          "output_type": "stream",
          "name": "stdout",
          "text": [
            "['a', 'a', 'x', 'b', 'x', 'x', 's', 'd', 'k', 'd']\n",
            "x is repeated 3 times\n"
          ]
        }
      ]
    },
    {
      "cell_type": "code",
      "source": [
        "# remove function\n",
        "# Here we will not use index number\n",
        "# In pop we use index number to remove\n",
        "# Not remove multiple values\n",
        "# First encountered value is removed\n",
        "# Only on value is remove in one execution\n",
        "l1 = [ 1, 5, 6, 4, 9, 2, 1, 2, 3, 6, 2]\n",
        "print(l1)\n",
        "print(\" \")\n",
        "print(\"2 is repeated\", l1.count(2), \"times\")\n",
        "l1.remove(2)\n",
        "print(\" \")\n",
        "print(\"2 is repeated\", l1.count(2), \"times and list :\", l1)"
      ],
      "metadata": {
        "colab": {
          "base_uri": "https://localhost:8080/"
        },
        "id": "jQYytDN-Znm-",
        "outputId": "d6edb208-181d-498b-98eb-6131bda4d189"
      },
      "execution_count": 36,
      "outputs": [
        {
          "output_type": "stream",
          "name": "stdout",
          "text": [
            "[1, 5, 6, 4, 9, 2, 1, 2, 3, 6, 2]\n",
            " \n",
            "2 is repeated 3 times\n",
            " \n",
            "2 is repeated 2 times and list : [1, 5, 6, 4, 9, 1, 2, 3, 6, 2]\n"
          ]
        }
      ]
    },
    {
      "cell_type": "code",
      "source": [
        "# remove duplicates from list using dict\n",
        "l1 = [ 1, 5, 6, 4, 9, 2, 1, 2, 3, 6, 2]\n",
        "print(l1)\n",
        "print(\" \")\n",
        "print(list(dict.fromkeys(l1)))"
      ],
      "metadata": {
        "colab": {
          "base_uri": "https://localhost:8080/"
        },
        "id": "otCjX_WWd2IK",
        "outputId": "4c753b45-fa78-457a-a801-357ea69a1145"
      },
      "execution_count": 39,
      "outputs": [
        {
          "output_type": "stream",
          "name": "stdout",
          "text": [
            "[1, 5, 6, 4, 9, 2, 1, 2, 3, 6, 2]\n",
            " \n",
            "[1, 5, 6, 4, 9, 2, 3]\n"
          ]
        }
      ]
    },
    {
      "cell_type": "code",
      "source": [
        "# remove duplicates from list using set\n",
        "l1 = [ 1, 5, 6, 4, 9, 2, 1, 2, 3, 6, 2]\n",
        "print(l1)\n",
        "print(\" \")\n",
        "print(list(set(l1)))"
      ],
      "metadata": {
        "colab": {
          "base_uri": "https://localhost:8080/"
        },
        "id": "lUz_vy1ZeYWL",
        "outputId": "d8bf3ef6-081f-4202-c160-12e92791758c"
      },
      "execution_count": 42,
      "outputs": [
        {
          "output_type": "stream",
          "name": "stdout",
          "text": [
            "[1, 5, 6, 4, 9, 2, 1, 2, 3, 6, 2]\n",
            " \n",
            "[1, 2, 3, 4, 5, 6, 9]\n"
          ]
        }
      ]
    },
    {
      "cell_type": "code",
      "source": [
        "# remove duplicates from list using function\n",
        "l1 = [ 1, 5, 6, 4, 9, 2, 1, 2, 3, 6, 2]\n",
        "print(l1)\n",
        "print(\" \")\n",
        "def remove_dup_list(x):\n",
        "  return list(dict.fromkeys(x))\n",
        "\n",
        "print(\" \")\n",
        "print(remove_dup_list(l1))"
      ],
      "metadata": {
        "colab": {
          "base_uri": "https://localhost:8080/"
        },
        "id": "Kf1QIzXreqJ1",
        "outputId": "89e4f174-388c-40a9-cf92-67277a5d1fe2"
      },
      "execution_count": 45,
      "outputs": [
        {
          "output_type": "stream",
          "name": "stdout",
          "text": [
            "[1, 5, 6, 4, 9, 2, 1, 2, 3, 6, 2]\n",
            " \n",
            " \n",
            "[1, 5, 6, 4, 9, 2, 3]\n"
          ]
        }
      ]
    },
    {
      "cell_type": "code",
      "source": [],
      "metadata": {
        "id": "R7aubJHPfAvf"
      },
      "execution_count": null,
      "outputs": []
    }
  ]
}